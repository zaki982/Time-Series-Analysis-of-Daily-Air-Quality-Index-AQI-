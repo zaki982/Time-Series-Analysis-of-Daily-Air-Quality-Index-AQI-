{
 "cells": [
  {
   "cell_type": "markdown",
   "metadata": {},
   "source": [
    "# Time Series Analysis of Daily Air Quality Index (AQI)\n",
    "\n",
    "---\n",
    "\n",
    "\n",
    "## Abstract\n",
    "\n",
    "This project explores daily PM2.5 (particulate matter with a diameter of 2.5 micrometers or less) Air Quality Index (AQI) data from 2023 in Algeria to identify patterns and forecast future pollution levels. After cleaning and transforming the data, candidate time series models are specified and evaluated using standard diagnostics. A final model will be chosen for short-term forecasting, with the goal of informing public health recommendations and guiding air pollution management strategies.\n",
    "\n",
    "---\n",
    "\n",
    "\n",
    "## Introduction\n",
    "\n",
    "Air pollution is a pressing issue in many urban areas. PM2.5 is often cited as a primary culprit due to its ability to penetrate deep into the respiratory system, contributing to various health problems. The primary goal of this project is to analyze daily PM2.5 Air Quality Index (AQI) readings for a single year (2023) in Algeria and develop forecasts that can inform public health guidelines and environmental policies.\n",
    "\n",
    "\n",
    "### About the Data\n",
    "\n",
    "- **Source:** [AQICN platform](https://aqicn.org/data-platform/register/)  \n",
    "- **Form:** CSV file containing daily AQI measurements  \n",
    "- **Description:** Focused on PM2.5 levels, which are reported as AQI values  \n",
    "- **Timeframe:** Approximately 342 days in 2023 (some missing dates)  \n",
    "- **Columns:**\n",
    "  - *Date* – Daily timestamps  \n",
    "  - *PM2.5* – Corresponding AQI values for each date  \n",
    "- **Size:** 2 columns × ~343 rows  \n",
    "- **Sampling Frequency:** Daily measurements, allowing for straightforward time series modeling.\n"
   ]
  },
  {
   "cell_type": "markdown",
   "metadata": {},
   "source": [
    "This table from the *AQICN* clarifies the Air Quality and Pollution Measurement more:\n"
   ]
  },
  {
   "cell_type": "markdown",
   "metadata": {},
   "source": [
    "<img src=\"aqi_table.png\" alt=\"AQI Table\" width=\"650\"/>\n"
   ]
  },
  {
   "cell_type": "markdown",
   "metadata": {},
   "source": [
    "## Data Loading and Preprocessing\n",
    "\n",
    "In this section, we load the necessary libraries, read in the AQI dataset, and perform various preprocessing steps such as date handling, missing data interpolation, and dataset ordering. This ensures our time series is properly formatted and ready for modeling.\n"
   ]
  },
  {
   "cell_type": "code",
   "execution_count": 111,
   "metadata": {
    "vscode": {
     "languageId": "r"
    }
   },
   "outputs": [
    {
     "name": "stderr",
     "output_type": "stream",
     "text": [
      "Warning message:\n",
      "\"packages 'tidyverse', 'lubridate', 'forecast', 'tseries', 'ggplot2', 'dplyr', 'zoo', 'randtests', 'reshape2' are in use and will not be installed\"\n"
     ]
    }
   ],
   "source": [
    "# Install required packages \n",
    "install.packages(c(\"tidyverse\", \"lubridate\", \"forecast\", \"tseries\", \"ggplot2\", \"dplyr\", \"zoo\",\"randtests\",\"reshape2\"))\n",
    "\n",
    "# Load libraries \n",
    "library(tidyverse)   # Data manipulation and piping\n",
    "library(lubridate)   # Date handling\n",
    "library(forecast)    # ARIMA and other time series models\n",
    "library(tseries)     # Stationarity tests\n",
    "library(ggplot2)     # Data visualization\n",
    "library(dplyr)       # Data manipulation \n",
    "library(zoo)         # Time series operations (for interpolation)\n",
    "library(randtests)   # runs test\n"
   ]
  },
  {
   "cell_type": "markdown",
   "metadata": {},
   "source": [
    "### Handling Missing Dates \n",
    "\n",
    "In this phase, we first load the dataset and handle missing dates by generating a complete sequence of dates and merging it with our original data. Missing PM2.5 values are then filled using linear interpolation. \n"
   ]
  },
  {
   "cell_type": "code",
   "execution_count": 114,
   "metadata": {
    "vscode": {
     "languageId": "r"
    }
   },
   "outputs": [
    {
     "data": {
      "text/html": [
       "<table class=\"dataframe\">\n",
       "<caption>A data.frame: 365 × 2</caption>\n",
       "<thead>\n",
       "\t<tr><th scope=col>Date</th><th scope=col>pm25</th></tr>\n",
       "\t<tr><th scope=col>&lt;date&gt;</th><th scope=col>&lt;dbl&gt;</th></tr>\n",
       "</thead>\n",
       "<tbody>\n",
       "\t<tr><td>2023-01-01</td><td>62</td></tr>\n",
       "\t<tr><td>2023-01-02</td><td>62</td></tr>\n",
       "\t<tr><td>2023-01-03</td><td>63</td></tr>\n",
       "\t<tr><td>2023-01-04</td><td>59</td></tr>\n",
       "\t<tr><td>2023-01-05</td><td>51</td></tr>\n",
       "\t<tr><td>2023-01-06</td><td>59</td></tr>\n",
       "\t<tr><td>2023-01-07</td><td>59</td></tr>\n",
       "\t<tr><td>2023-01-08</td><td>56</td></tr>\n",
       "\t<tr><td>2023-01-09</td><td>51</td></tr>\n",
       "\t<tr><td>2023-01-10</td><td>52</td></tr>\n",
       "\t<tr><td>2023-01-11</td><td>54</td></tr>\n",
       "\t<tr><td>2023-01-12</td><td>53</td></tr>\n",
       "\t<tr><td>2023-01-13</td><td>54</td></tr>\n",
       "\t<tr><td>2023-01-14</td><td>57</td></tr>\n",
       "\t<tr><td>2023-01-15</td><td>53</td></tr>\n",
       "\t<tr><td>2023-01-16</td><td>52</td></tr>\n",
       "\t<tr><td>2023-01-17</td><td>52</td></tr>\n",
       "\t<tr><td>2023-01-18</td><td>51</td></tr>\n",
       "\t<tr><td>2023-01-19</td><td>49</td></tr>\n",
       "\t<tr><td>2023-01-20</td><td>53</td></tr>\n",
       "\t<tr><td>2023-01-21</td><td>51</td></tr>\n",
       "\t<tr><td>2023-01-22</td><td>55</td></tr>\n",
       "\t<tr><td>2023-01-23</td><td>58</td></tr>\n",
       "\t<tr><td>2023-01-24</td><td>52</td></tr>\n",
       "\t<tr><td>2023-01-25</td><td>50</td></tr>\n",
       "\t<tr><td>2023-01-26</td><td>52</td></tr>\n",
       "\t<tr><td>2023-01-27</td><td>49</td></tr>\n",
       "\t<tr><td>2023-01-28</td><td>53</td></tr>\n",
       "\t<tr><td>2023-01-29</td><td>47</td></tr>\n",
       "\t<tr><td>2023-01-30</td><td>54</td></tr>\n",
       "\t<tr><td>⋮</td><td>⋮</td></tr>\n",
       "\t<tr><td>2023-12-02</td><td> 34</td></tr>\n",
       "\t<tr><td>2023-12-03</td><td> 54</td></tr>\n",
       "\t<tr><td>2023-12-04</td><td> 53</td></tr>\n",
       "\t<tr><td>2023-12-05</td><td> 48</td></tr>\n",
       "\t<tr><td>2023-12-06</td><td> 58</td></tr>\n",
       "\t<tr><td>2023-12-07</td><td> 68</td></tr>\n",
       "\t<tr><td>2023-12-08</td><td> 41</td></tr>\n",
       "\t<tr><td>2023-12-09</td><td> 29</td></tr>\n",
       "\t<tr><td>2023-12-10</td><td> 52</td></tr>\n",
       "\t<tr><td>2023-12-11</td><td> 64</td></tr>\n",
       "\t<tr><td>2023-12-12</td><td> 59</td></tr>\n",
       "\t<tr><td>2023-12-13</td><td> 44</td></tr>\n",
       "\t<tr><td>2023-12-14</td><td> 26</td></tr>\n",
       "\t<tr><td>2023-12-15</td><td> 31</td></tr>\n",
       "\t<tr><td>2023-12-16</td><td> 32</td></tr>\n",
       "\t<tr><td>2023-12-17</td><td> 44</td></tr>\n",
       "\t<tr><td>2023-12-18</td><td> 53</td></tr>\n",
       "\t<tr><td>2023-12-19</td><td> 48</td></tr>\n",
       "\t<tr><td>2023-12-20</td><td> 54</td></tr>\n",
       "\t<tr><td>2023-12-21</td><td> 59</td></tr>\n",
       "\t<tr><td>2023-12-22</td><td> 50</td></tr>\n",
       "\t<tr><td>2023-12-23</td><td> 73</td></tr>\n",
       "\t<tr><td>2023-12-24</td><td>107</td></tr>\n",
       "\t<tr><td>2023-12-25</td><td>122</td></tr>\n",
       "\t<tr><td>2023-12-26</td><td>142</td></tr>\n",
       "\t<tr><td>2023-12-27</td><td>141</td></tr>\n",
       "\t<tr><td>2023-12-28</td><td>127</td></tr>\n",
       "\t<tr><td>2023-12-29</td><td>105</td></tr>\n",
       "\t<tr><td>2023-12-30</td><td>104</td></tr>\n",
       "\t<tr><td>2023-12-31</td><td> 86</td></tr>\n",
       "</tbody>\n",
       "</table>\n"
      ],
      "text/latex": [
       "A data.frame: 365 × 2\n",
       "\\begin{tabular}{ll}\n",
       " Date & pm25\\\\\n",
       " <date> & <dbl>\\\\\n",
       "\\hline\n",
       "\t 2023-01-01 & 62\\\\\n",
       "\t 2023-01-02 & 62\\\\\n",
       "\t 2023-01-03 & 63\\\\\n",
       "\t 2023-01-04 & 59\\\\\n",
       "\t 2023-01-05 & 51\\\\\n",
       "\t 2023-01-06 & 59\\\\\n",
       "\t 2023-01-07 & 59\\\\\n",
       "\t 2023-01-08 & 56\\\\\n",
       "\t 2023-01-09 & 51\\\\\n",
       "\t 2023-01-10 & 52\\\\\n",
       "\t 2023-01-11 & 54\\\\\n",
       "\t 2023-01-12 & 53\\\\\n",
       "\t 2023-01-13 & 54\\\\\n",
       "\t 2023-01-14 & 57\\\\\n",
       "\t 2023-01-15 & 53\\\\\n",
       "\t 2023-01-16 & 52\\\\\n",
       "\t 2023-01-17 & 52\\\\\n",
       "\t 2023-01-18 & 51\\\\\n",
       "\t 2023-01-19 & 49\\\\\n",
       "\t 2023-01-20 & 53\\\\\n",
       "\t 2023-01-21 & 51\\\\\n",
       "\t 2023-01-22 & 55\\\\\n",
       "\t 2023-01-23 & 58\\\\\n",
       "\t 2023-01-24 & 52\\\\\n",
       "\t 2023-01-25 & 50\\\\\n",
       "\t 2023-01-26 & 52\\\\\n",
       "\t 2023-01-27 & 49\\\\\n",
       "\t 2023-01-28 & 53\\\\\n",
       "\t 2023-01-29 & 47\\\\\n",
       "\t 2023-01-30 & 54\\\\\n",
       "\t ⋮ & ⋮\\\\\n",
       "\t 2023-12-02 &  34\\\\\n",
       "\t 2023-12-03 &  54\\\\\n",
       "\t 2023-12-04 &  53\\\\\n",
       "\t 2023-12-05 &  48\\\\\n",
       "\t 2023-12-06 &  58\\\\\n",
       "\t 2023-12-07 &  68\\\\\n",
       "\t 2023-12-08 &  41\\\\\n",
       "\t 2023-12-09 &  29\\\\\n",
       "\t 2023-12-10 &  52\\\\\n",
       "\t 2023-12-11 &  64\\\\\n",
       "\t 2023-12-12 &  59\\\\\n",
       "\t 2023-12-13 &  44\\\\\n",
       "\t 2023-12-14 &  26\\\\\n",
       "\t 2023-12-15 &  31\\\\\n",
       "\t 2023-12-16 &  32\\\\\n",
       "\t 2023-12-17 &  44\\\\\n",
       "\t 2023-12-18 &  53\\\\\n",
       "\t 2023-12-19 &  48\\\\\n",
       "\t 2023-12-20 &  54\\\\\n",
       "\t 2023-12-21 &  59\\\\\n",
       "\t 2023-12-22 &  50\\\\\n",
       "\t 2023-12-23 &  73\\\\\n",
       "\t 2023-12-24 & 107\\\\\n",
       "\t 2023-12-25 & 122\\\\\n",
       "\t 2023-12-26 & 142\\\\\n",
       "\t 2023-12-27 & 141\\\\\n",
       "\t 2023-12-28 & 127\\\\\n",
       "\t 2023-12-29 & 105\\\\\n",
       "\t 2023-12-30 & 104\\\\\n",
       "\t 2023-12-31 &  86\\\\\n",
       "\\end{tabular}\n"
      ],
      "text/markdown": [
       "\n",
       "A data.frame: 365 × 2\n",
       "\n",
       "| Date &lt;date&gt; | pm25 &lt;dbl&gt; |\n",
       "|---|---|\n",
       "| 2023-01-01 | 62 |\n",
       "| 2023-01-02 | 62 |\n",
       "| 2023-01-03 | 63 |\n",
       "| 2023-01-04 | 59 |\n",
       "| 2023-01-05 | 51 |\n",
       "| 2023-01-06 | 59 |\n",
       "| 2023-01-07 | 59 |\n",
       "| 2023-01-08 | 56 |\n",
       "| 2023-01-09 | 51 |\n",
       "| 2023-01-10 | 52 |\n",
       "| 2023-01-11 | 54 |\n",
       "| 2023-01-12 | 53 |\n",
       "| 2023-01-13 | 54 |\n",
       "| 2023-01-14 | 57 |\n",
       "| 2023-01-15 | 53 |\n",
       "| 2023-01-16 | 52 |\n",
       "| 2023-01-17 | 52 |\n",
       "| 2023-01-18 | 51 |\n",
       "| 2023-01-19 | 49 |\n",
       "| 2023-01-20 | 53 |\n",
       "| 2023-01-21 | 51 |\n",
       "| 2023-01-22 | 55 |\n",
       "| 2023-01-23 | 58 |\n",
       "| 2023-01-24 | 52 |\n",
       "| 2023-01-25 | 50 |\n",
       "| 2023-01-26 | 52 |\n",
       "| 2023-01-27 | 49 |\n",
       "| 2023-01-28 | 53 |\n",
       "| 2023-01-29 | 47 |\n",
       "| 2023-01-30 | 54 |\n",
       "| ⋮ | ⋮ |\n",
       "| 2023-12-02 |  34 |\n",
       "| 2023-12-03 |  54 |\n",
       "| 2023-12-04 |  53 |\n",
       "| 2023-12-05 |  48 |\n",
       "| 2023-12-06 |  58 |\n",
       "| 2023-12-07 |  68 |\n",
       "| 2023-12-08 |  41 |\n",
       "| 2023-12-09 |  29 |\n",
       "| 2023-12-10 |  52 |\n",
       "| 2023-12-11 |  64 |\n",
       "| 2023-12-12 |  59 |\n",
       "| 2023-12-13 |  44 |\n",
       "| 2023-12-14 |  26 |\n",
       "| 2023-12-15 |  31 |\n",
       "| 2023-12-16 |  32 |\n",
       "| 2023-12-17 |  44 |\n",
       "| 2023-12-18 |  53 |\n",
       "| 2023-12-19 |  48 |\n",
       "| 2023-12-20 |  54 |\n",
       "| 2023-12-21 |  59 |\n",
       "| 2023-12-22 |  50 |\n",
       "| 2023-12-23 |  73 |\n",
       "| 2023-12-24 | 107 |\n",
       "| 2023-12-25 | 122 |\n",
       "| 2023-12-26 | 142 |\n",
       "| 2023-12-27 | 141 |\n",
       "| 2023-12-28 | 127 |\n",
       "| 2023-12-29 | 105 |\n",
       "| 2023-12-30 | 104 |\n",
       "| 2023-12-31 |  86 |\n",
       "\n"
      ],
      "text/plain": [
       "    Date       pm25\n",
       "1   2023-01-01 62  \n",
       "2   2023-01-02 62  \n",
       "3   2023-01-03 63  \n",
       "4   2023-01-04 59  \n",
       "5   2023-01-05 51  \n",
       "6   2023-01-06 59  \n",
       "7   2023-01-07 59  \n",
       "8   2023-01-08 56  \n",
       "9   2023-01-09 51  \n",
       "10  2023-01-10 52  \n",
       "11  2023-01-11 54  \n",
       "12  2023-01-12 53  \n",
       "13  2023-01-13 54  \n",
       "14  2023-01-14 57  \n",
       "15  2023-01-15 53  \n",
       "16  2023-01-16 52  \n",
       "17  2023-01-17 52  \n",
       "18  2023-01-18 51  \n",
       "19  2023-01-19 49  \n",
       "20  2023-01-20 53  \n",
       "21  2023-01-21 51  \n",
       "22  2023-01-22 55  \n",
       "23  2023-01-23 58  \n",
       "24  2023-01-24 52  \n",
       "25  2023-01-25 50  \n",
       "26  2023-01-26 52  \n",
       "27  2023-01-27 49  \n",
       "28  2023-01-28 53  \n",
       "29  2023-01-29 47  \n",
       "30  2023-01-30 54  \n",
       "⋮   ⋮          ⋮   \n",
       "336 2023-12-02  34 \n",
       "337 2023-12-03  54 \n",
       "338 2023-12-04  53 \n",
       "339 2023-12-05  48 \n",
       "340 2023-12-06  58 \n",
       "341 2023-12-07  68 \n",
       "342 2023-12-08  41 \n",
       "343 2023-12-09  29 \n",
       "344 2023-12-10  52 \n",
       "345 2023-12-11  64 \n",
       "346 2023-12-12  59 \n",
       "347 2023-12-13  44 \n",
       "348 2023-12-14  26 \n",
       "349 2023-12-15  31 \n",
       "350 2023-12-16  32 \n",
       "351 2023-12-17  44 \n",
       "352 2023-12-18  53 \n",
       "353 2023-12-19  48 \n",
       "354 2023-12-20  54 \n",
       "355 2023-12-21  59 \n",
       "356 2023-12-22  50 \n",
       "357 2023-12-23  73 \n",
       "358 2023-12-24 107 \n",
       "359 2023-12-25 122 \n",
       "360 2023-12-26 142 \n",
       "361 2023-12-27 141 \n",
       "362 2023-12-28 127 \n",
       "363 2023-12-29 105 \n",
       "364 2023-12-30 104 \n",
       "365 2023-12-31  86 "
      ]
     },
     "metadata": {},
     "output_type": "display_data"
    },
    {
     "data": {
      "text/html": [
       "0"
      ],
      "text/latex": [
       "0"
      ],
      "text/markdown": [
       "0"
      ],
      "text/plain": [
       "[1] 0"
      ]
     },
     "metadata": {},
     "output_type": "display_data"
    }
   ],
   "source": [
    "# Load the dataset \n",
    "data <- read.csv(\"algiers-us embassy-air-quality.csv\", header = TRUE, stringsAsFactors = FALSE)\n",
    "\n",
    "# Ensure Date column exists \n",
    "if (!\"Date\" %in% names(data)) {\n",
    "  if (\"date\" %in% names(data)) {\n",
    "    names(data)[names(data) == \"date\"] <- \"Date\"\n",
    "  } else {\n",
    "    stop(\"Error: 'Date' column not found!\")\n",
    "  }\n",
    "}\n",
    "\n",
    "# Convert Date column to Date object \n",
    "data$Date <- ymd(data$Date)  \n",
    "\n",
    "# Create a complete date sequence \n",
    "full_dates <- data.frame(Date = seq.Date(from = as.Date(\"2023-01-01\"),\n",
    "                                           to = as.Date(\"2023-12-31\"),\n",
    "                                           by = \"day\"))\n",
    "\n",
    "# Merge the complete dates with the existing data \n",
    "data_complete <- left_join(full_dates, data, by = \"Date\")\n",
    "\n",
    "# Fill missing PM2.5 values using linear interpolation \n",
    "data_complete$pm25 <- na.approx(data_complete$pm25, rule = 2)\n",
    "\n",
    "# Display the full transformed dataset \n",
    "View(data_complete)\n",
    "\n",
    "sum(is.na(data_complete$pm25)) # ensure no missing values\n"
   ]
  },
  {
   "cell_type": "markdown",
   "metadata": {},
   "source": [
    "### Order Dataset by Date\n",
    "We define a helper function to ensure our dataset is sorted chronologically, this step will be crucial in time series analysis.\n"
   ]
  },
  {
   "cell_type": "code",
   "execution_count": null,
   "metadata": {
    "vscode": {
     "languageId": "r"
    }
   },
   "outputs": [
    {
     "data": {
      "text/html": [
       "<table class=\"dataframe\">\n",
       "<caption>A data.frame: 365 × 2</caption>\n",
       "<thead>\n",
       "\t<tr><th></th><th scope=col>Date</th><th scope=col>pm25</th></tr>\n",
       "\t<tr><th></th><th scope=col>&lt;date&gt;</th><th scope=col>&lt;dbl&gt;</th></tr>\n",
       "</thead>\n",
       "<tbody>\n",
       "\t<tr><th scope=row>1</th><td>2023-01-01</td><td>62</td></tr>\n",
       "\t<tr><th scope=row>2</th><td>2023-01-02</td><td>62</td></tr>\n",
       "\t<tr><th scope=row>3</th><td>2023-01-03</td><td>63</td></tr>\n",
       "\t<tr><th scope=row>4</th><td>2023-01-04</td><td>59</td></tr>\n",
       "\t<tr><th scope=row>5</th><td>2023-01-05</td><td>51</td></tr>\n",
       "\t<tr><th scope=row>6</th><td>2023-01-06</td><td>59</td></tr>\n",
       "\t<tr><th scope=row>7</th><td>2023-01-07</td><td>59</td></tr>\n",
       "\t<tr><th scope=row>8</th><td>2023-01-08</td><td>56</td></tr>\n",
       "\t<tr><th scope=row>9</th><td>2023-01-09</td><td>51</td></tr>\n",
       "\t<tr><th scope=row>10</th><td>2023-01-10</td><td>52</td></tr>\n",
       "\t<tr><th scope=row>11</th><td>2023-01-11</td><td>54</td></tr>\n",
       "\t<tr><th scope=row>12</th><td>2023-01-12</td><td>53</td></tr>\n",
       "\t<tr><th scope=row>13</th><td>2023-01-13</td><td>54</td></tr>\n",
       "\t<tr><th scope=row>14</th><td>2023-01-14</td><td>57</td></tr>\n",
       "\t<tr><th scope=row>15</th><td>2023-01-15</td><td>53</td></tr>\n",
       "\t<tr><th scope=row>16</th><td>2023-01-16</td><td>52</td></tr>\n",
       "\t<tr><th scope=row>17</th><td>2023-01-17</td><td>52</td></tr>\n",
       "\t<tr><th scope=row>18</th><td>2023-01-18</td><td>51</td></tr>\n",
       "\t<tr><th scope=row>19</th><td>2023-01-19</td><td>49</td></tr>\n",
       "\t<tr><th scope=row>20</th><td>2023-01-20</td><td>53</td></tr>\n",
       "\t<tr><th scope=row>21</th><td>2023-01-21</td><td>51</td></tr>\n",
       "\t<tr><th scope=row>22</th><td>2023-01-22</td><td>55</td></tr>\n",
       "\t<tr><th scope=row>23</th><td>2023-01-23</td><td>58</td></tr>\n",
       "\t<tr><th scope=row>24</th><td>2023-01-24</td><td>52</td></tr>\n",
       "\t<tr><th scope=row>25</th><td>2023-01-25</td><td>50</td></tr>\n",
       "\t<tr><th scope=row>26</th><td>2023-01-26</td><td>52</td></tr>\n",
       "\t<tr><th scope=row>27</th><td>2023-01-27</td><td>49</td></tr>\n",
       "\t<tr><th scope=row>28</th><td>2023-01-28</td><td>53</td></tr>\n",
       "\t<tr><th scope=row>29</th><td>2023-01-29</td><td>47</td></tr>\n",
       "\t<tr><th scope=row>30</th><td>2023-01-30</td><td>54</td></tr>\n",
       "\t<tr><th scope=row>⋮</th><td>⋮</td><td>⋮</td></tr>\n",
       "\t<tr><th scope=row>336</th><td>2023-12-02</td><td> 34</td></tr>\n",
       "\t<tr><th scope=row>337</th><td>2023-12-03</td><td> 54</td></tr>\n",
       "\t<tr><th scope=row>338</th><td>2023-12-04</td><td> 53</td></tr>\n",
       "\t<tr><th scope=row>339</th><td>2023-12-05</td><td> 48</td></tr>\n",
       "\t<tr><th scope=row>340</th><td>2023-12-06</td><td> 58</td></tr>\n",
       "\t<tr><th scope=row>341</th><td>2023-12-07</td><td> 68</td></tr>\n",
       "\t<tr><th scope=row>342</th><td>2023-12-08</td><td> 41</td></tr>\n",
       "\t<tr><th scope=row>343</th><td>2023-12-09</td><td> 29</td></tr>\n",
       "\t<tr><th scope=row>344</th><td>2023-12-10</td><td> 52</td></tr>\n",
       "\t<tr><th scope=row>345</th><td>2023-12-11</td><td> 64</td></tr>\n",
       "\t<tr><th scope=row>346</th><td>2023-12-12</td><td> 59</td></tr>\n",
       "\t<tr><th scope=row>347</th><td>2023-12-13</td><td> 44</td></tr>\n",
       "\t<tr><th scope=row>348</th><td>2023-12-14</td><td> 26</td></tr>\n",
       "\t<tr><th scope=row>349</th><td>2023-12-15</td><td> 31</td></tr>\n",
       "\t<tr><th scope=row>350</th><td>2023-12-16</td><td> 32</td></tr>\n",
       "\t<tr><th scope=row>351</th><td>2023-12-17</td><td> 44</td></tr>\n",
       "\t<tr><th scope=row>352</th><td>2023-12-18</td><td> 53</td></tr>\n",
       "\t<tr><th scope=row>353</th><td>2023-12-19</td><td> 48</td></tr>\n",
       "\t<tr><th scope=row>354</th><td>2023-12-20</td><td> 54</td></tr>\n",
       "\t<tr><th scope=row>355</th><td>2023-12-21</td><td> 59</td></tr>\n",
       "\t<tr><th scope=row>356</th><td>2023-12-22</td><td> 50</td></tr>\n",
       "\t<tr><th scope=row>357</th><td>2023-12-23</td><td> 73</td></tr>\n",
       "\t<tr><th scope=row>358</th><td>2023-12-24</td><td>107</td></tr>\n",
       "\t<tr><th scope=row>359</th><td>2023-12-25</td><td>122</td></tr>\n",
       "\t<tr><th scope=row>360</th><td>2023-12-26</td><td>142</td></tr>\n",
       "\t<tr><th scope=row>361</th><td>2023-12-27</td><td>141</td></tr>\n",
       "\t<tr><th scope=row>362</th><td>2023-12-28</td><td>127</td></tr>\n",
       "\t<tr><th scope=row>363</th><td>2023-12-29</td><td>105</td></tr>\n",
       "\t<tr><th scope=row>364</th><td>2023-12-30</td><td>104</td></tr>\n",
       "\t<tr><th scope=row>365</th><td>2023-12-31</td><td> 86</td></tr>\n",
       "</tbody>\n",
       "</table>\n"
      ],
      "text/latex": [
       "A data.frame: 365 × 2\n",
       "\\begin{tabular}{r|ll}\n",
       "  & Date & pm25\\\\\n",
       "  & <date> & <dbl>\\\\\n",
       "\\hline\n",
       "\t1 & 2023-01-01 & 62\\\\\n",
       "\t2 & 2023-01-02 & 62\\\\\n",
       "\t3 & 2023-01-03 & 63\\\\\n",
       "\t4 & 2023-01-04 & 59\\\\\n",
       "\t5 & 2023-01-05 & 51\\\\\n",
       "\t6 & 2023-01-06 & 59\\\\\n",
       "\t7 & 2023-01-07 & 59\\\\\n",
       "\t8 & 2023-01-08 & 56\\\\\n",
       "\t9 & 2023-01-09 & 51\\\\\n",
       "\t10 & 2023-01-10 & 52\\\\\n",
       "\t11 & 2023-01-11 & 54\\\\\n",
       "\t12 & 2023-01-12 & 53\\\\\n",
       "\t13 & 2023-01-13 & 54\\\\\n",
       "\t14 & 2023-01-14 & 57\\\\\n",
       "\t15 & 2023-01-15 & 53\\\\\n",
       "\t16 & 2023-01-16 & 52\\\\\n",
       "\t17 & 2023-01-17 & 52\\\\\n",
       "\t18 & 2023-01-18 & 51\\\\\n",
       "\t19 & 2023-01-19 & 49\\\\\n",
       "\t20 & 2023-01-20 & 53\\\\\n",
       "\t21 & 2023-01-21 & 51\\\\\n",
       "\t22 & 2023-01-22 & 55\\\\\n",
       "\t23 & 2023-01-23 & 58\\\\\n",
       "\t24 & 2023-01-24 & 52\\\\\n",
       "\t25 & 2023-01-25 & 50\\\\\n",
       "\t26 & 2023-01-26 & 52\\\\\n",
       "\t27 & 2023-01-27 & 49\\\\\n",
       "\t28 & 2023-01-28 & 53\\\\\n",
       "\t29 & 2023-01-29 & 47\\\\\n",
       "\t30 & 2023-01-30 & 54\\\\\n",
       "\t⋮ & ⋮ & ⋮\\\\\n",
       "\t336 & 2023-12-02 &  34\\\\\n",
       "\t337 & 2023-12-03 &  54\\\\\n",
       "\t338 & 2023-12-04 &  53\\\\\n",
       "\t339 & 2023-12-05 &  48\\\\\n",
       "\t340 & 2023-12-06 &  58\\\\\n",
       "\t341 & 2023-12-07 &  68\\\\\n",
       "\t342 & 2023-12-08 &  41\\\\\n",
       "\t343 & 2023-12-09 &  29\\\\\n",
       "\t344 & 2023-12-10 &  52\\\\\n",
       "\t345 & 2023-12-11 &  64\\\\\n",
       "\t346 & 2023-12-12 &  59\\\\\n",
       "\t347 & 2023-12-13 &  44\\\\\n",
       "\t348 & 2023-12-14 &  26\\\\\n",
       "\t349 & 2023-12-15 &  31\\\\\n",
       "\t350 & 2023-12-16 &  32\\\\\n",
       "\t351 & 2023-12-17 &  44\\\\\n",
       "\t352 & 2023-12-18 &  53\\\\\n",
       "\t353 & 2023-12-19 &  48\\\\\n",
       "\t354 & 2023-12-20 &  54\\\\\n",
       "\t355 & 2023-12-21 &  59\\\\\n",
       "\t356 & 2023-12-22 &  50\\\\\n",
       "\t357 & 2023-12-23 &  73\\\\\n",
       "\t358 & 2023-12-24 & 107\\\\\n",
       "\t359 & 2023-12-25 & 122\\\\\n",
       "\t360 & 2023-12-26 & 142\\\\\n",
       "\t361 & 2023-12-27 & 141\\\\\n",
       "\t362 & 2023-12-28 & 127\\\\\n",
       "\t363 & 2023-12-29 & 105\\\\\n",
       "\t364 & 2023-12-30 & 104\\\\\n",
       "\t365 & 2023-12-31 &  86\\\\\n",
       "\\end{tabular}\n"
      ],
      "text/markdown": [
       "\n",
       "A data.frame: 365 × 2\n",
       "\n",
       "| <!--/--> | Date &lt;date&gt; | pm25 &lt;dbl&gt; |\n",
       "|---|---|---|\n",
       "| 1 | 2023-01-01 | 62 |\n",
       "| 2 | 2023-01-02 | 62 |\n",
       "| 3 | 2023-01-03 | 63 |\n",
       "| 4 | 2023-01-04 | 59 |\n",
       "| 5 | 2023-01-05 | 51 |\n",
       "| 6 | 2023-01-06 | 59 |\n",
       "| 7 | 2023-01-07 | 59 |\n",
       "| 8 | 2023-01-08 | 56 |\n",
       "| 9 | 2023-01-09 | 51 |\n",
       "| 10 | 2023-01-10 | 52 |\n",
       "| 11 | 2023-01-11 | 54 |\n",
       "| 12 | 2023-01-12 | 53 |\n",
       "| 13 | 2023-01-13 | 54 |\n",
       "| 14 | 2023-01-14 | 57 |\n",
       "| 15 | 2023-01-15 | 53 |\n",
       "| 16 | 2023-01-16 | 52 |\n",
       "| 17 | 2023-01-17 | 52 |\n",
       "| 18 | 2023-01-18 | 51 |\n",
       "| 19 | 2023-01-19 | 49 |\n",
       "| 20 | 2023-01-20 | 53 |\n",
       "| 21 | 2023-01-21 | 51 |\n",
       "| 22 | 2023-01-22 | 55 |\n",
       "| 23 | 2023-01-23 | 58 |\n",
       "| 24 | 2023-01-24 | 52 |\n",
       "| 25 | 2023-01-25 | 50 |\n",
       "| 26 | 2023-01-26 | 52 |\n",
       "| 27 | 2023-01-27 | 49 |\n",
       "| 28 | 2023-01-28 | 53 |\n",
       "| 29 | 2023-01-29 | 47 |\n",
       "| 30 | 2023-01-30 | 54 |\n",
       "| ⋮ | ⋮ | ⋮ |\n",
       "| 336 | 2023-12-02 |  34 |\n",
       "| 337 | 2023-12-03 |  54 |\n",
       "| 338 | 2023-12-04 |  53 |\n",
       "| 339 | 2023-12-05 |  48 |\n",
       "| 340 | 2023-12-06 |  58 |\n",
       "| 341 | 2023-12-07 |  68 |\n",
       "| 342 | 2023-12-08 |  41 |\n",
       "| 343 | 2023-12-09 |  29 |\n",
       "| 344 | 2023-12-10 |  52 |\n",
       "| 345 | 2023-12-11 |  64 |\n",
       "| 346 | 2023-12-12 |  59 |\n",
       "| 347 | 2023-12-13 |  44 |\n",
       "| 348 | 2023-12-14 |  26 |\n",
       "| 349 | 2023-12-15 |  31 |\n",
       "| 350 | 2023-12-16 |  32 |\n",
       "| 351 | 2023-12-17 |  44 |\n",
       "| 352 | 2023-12-18 |  53 |\n",
       "| 353 | 2023-12-19 |  48 |\n",
       "| 354 | 2023-12-20 |  54 |\n",
       "| 355 | 2023-12-21 |  59 |\n",
       "| 356 | 2023-12-22 |  50 |\n",
       "| 357 | 2023-12-23 |  73 |\n",
       "| 358 | 2023-12-24 | 107 |\n",
       "| 359 | 2023-12-25 | 122 |\n",
       "| 360 | 2023-12-26 | 142 |\n",
       "| 361 | 2023-12-27 | 141 |\n",
       "| 362 | 2023-12-28 | 127 |\n",
       "| 363 | 2023-12-29 | 105 |\n",
       "| 364 | 2023-12-30 | 104 |\n",
       "| 365 | 2023-12-31 |  86 |\n",
       "\n"
      ],
      "text/plain": [
       "    Date       pm25\n",
       "1   2023-01-01 62  \n",
       "2   2023-01-02 62  \n",
       "3   2023-01-03 63  \n",
       "4   2023-01-04 59  \n",
       "5   2023-01-05 51  \n",
       "6   2023-01-06 59  \n",
       "7   2023-01-07 59  \n",
       "8   2023-01-08 56  \n",
       "9   2023-01-09 51  \n",
       "10  2023-01-10 52  \n",
       "11  2023-01-11 54  \n",
       "12  2023-01-12 53  \n",
       "13  2023-01-13 54  \n",
       "14  2023-01-14 57  \n",
       "15  2023-01-15 53  \n",
       "16  2023-01-16 52  \n",
       "17  2023-01-17 52  \n",
       "18  2023-01-18 51  \n",
       "19  2023-01-19 49  \n",
       "20  2023-01-20 53  \n",
       "21  2023-01-21 51  \n",
       "22  2023-01-22 55  \n",
       "23  2023-01-23 58  \n",
       "24  2023-01-24 52  \n",
       "25  2023-01-25 50  \n",
       "26  2023-01-26 52  \n",
       "27  2023-01-27 49  \n",
       "28  2023-01-28 53  \n",
       "29  2023-01-29 47  \n",
       "30  2023-01-30 54  \n",
       "⋮   ⋮          ⋮   \n",
       "336 2023-12-02  34 \n",
       "337 2023-12-03  54 \n",
       "338 2023-12-04  53 \n",
       "339 2023-12-05  48 \n",
       "340 2023-12-06  58 \n",
       "341 2023-12-07  68 \n",
       "342 2023-12-08  41 \n",
       "343 2023-12-09  29 \n",
       "344 2023-12-10  52 \n",
       "345 2023-12-11  64 \n",
       "346 2023-12-12  59 \n",
       "347 2023-12-13  44 \n",
       "348 2023-12-14  26 \n",
       "349 2023-12-15  31 \n",
       "350 2023-12-16  32 \n",
       "351 2023-12-17  44 \n",
       "352 2023-12-18  53 \n",
       "353 2023-12-19  48 \n",
       "354 2023-12-20  54 \n",
       "355 2023-12-21  59 \n",
       "356 2023-12-22  50 \n",
       "357 2023-12-23  73 \n",
       "358 2023-12-24 107 \n",
       "359 2023-12-25 122 \n",
       "360 2023-12-26 142 \n",
       "361 2023-12-27 141 \n",
       "362 2023-12-28 127 \n",
       "363 2023-12-29 105 \n",
       "364 2023-12-30 104 \n",
       "365 2023-12-31  86 "
      ]
     },
     "metadata": {},
     "output_type": "display_data"
    }
   ],
   "source": [
    "order_dataset_by_date <- function(df) {\n",
    "  # Convert Date column to Date format\n",
    "  df$Date <- as.Date(df$Date, format = \"%d-%m-%Y\")\n",
    "  \n",
    "  # Sort dataset by Date in ascending order\n",
    "  df <- df[order(df$Date), ]\n",
    "  \n",
    "  return(df)\n",
    "}\n",
    "\n",
    "# Apply the function to the dataset\n",
    "data_complete <- order_dataset_by_date(data_complete)\n",
    "\n",
    "# View the sorted dataset\n",
    "View(data_complete)\n"
   ]
  },
  {
   "cell_type": "markdown",
   "metadata": {},
   "source": [
    "### Convert to Time Series Object\n",
    "Finally, we convert the PM2.5 values into a time series object with a daily frequency, preparing it for further analysis and modeling.\n"
   ]
  },
  {
   "cell_type": "code",
   "execution_count": 116,
   "metadata": {
    "vscode": {
     "languageId": "r"
    }
   },
   "outputs": [
    {
     "name": "stdout",
     "output_type": "stream",
     "text": [
      "Time Series:\n",
      "Start = c(1, 1) \n",
      "End = c(1, 365) \n",
      "Frequency = 365 \n",
      "  [1]  62.00000  62.00000  63.00000  59.00000  51.00000  59.00000  59.00000\n",
      "  [8]  56.00000  51.00000  52.00000  54.00000  53.00000  54.00000  57.00000\n",
      " [15]  53.00000  52.00000  52.00000  51.00000  49.00000  53.00000  51.00000\n",
      " [22]  55.00000  58.00000  52.00000  50.00000  52.00000  49.00000  53.00000\n",
      " [29]  47.00000  54.00000  57.00000  59.00000  54.00000  56.00000  56.00000\n",
      " [36]  57.00000  52.00000  58.00000  57.00000  49.00000  50.00000  51.00000\n",
      " [43]  59.00000  57.00000  58.00000  56.00000  57.00000  59.00000  61.00000\n",
      " [50]  64.00000  65.00000  66.00000  70.00000  77.00000  71.00000  49.00000\n",
      " [57]  44.00000  52.00000  52.00000  50.00000  53.00000  49.00000  52.00000\n",
      " [64]  58.00000  54.00000  49.00000  49.00000  54.00000  52.00000  52.00000\n",
      " [71]  53.00000  60.00000  53.00000  48.00000  53.00000  58.00000  55.00000\n",
      " [78]  53.00000  52.00000  50.00000  57.00000  58.00000  56.00000  56.00000\n",
      " [85]  54.00000  47.00000  50.00000  57.00000  56.00000  52.00000  53.00000\n",
      " [92]  50.00000  44.00000  52.00000  48.00000  47.00000  49.00000  52.00000\n",
      " [99]  50.00000  55.00000  62.00000  59.00000  57.00000  51.00000  45.00000\n",
      "[106]  53.00000  53.33333  53.66667  54.00000  54.33333  54.66667  55.00000\n",
      "[113]  55.33333  55.66667  56.00000  56.33333  56.66667  57.00000  63.00000\n",
      "[120]  44.00000  32.00000  34.00000  32.00000  45.00000  51.00000  50.00000\n",
      "[127]  42.00000  34.00000  54.00000  38.00000  32.00000  34.00000  33.00000\n",
      "[134]  24.00000  36.00000  40.00000  47.00000  36.00000  29.00000  24.00000\n",
      "[141]  41.00000  37.00000  37.00000  41.00000  39.00000  54.00000  63.00000\n",
      "[148]  48.00000  46.00000  44.00000  36.00000  46.00000  42.00000  44.00000\n",
      "[155]  32.00000  27.00000  31.00000  55.00000  70.00000  41.00000  39.00000\n",
      "[162]  47.00000  50.85714  54.71429  58.57143  62.42857  66.28571  70.14286\n",
      "[169]  74.00000  68.00000  59.00000  60.00000  46.00000  46.00000  27.00000\n",
      "[176]  37.00000  41.00000  44.00000  53.00000  65.00000  61.00000  48.00000\n",
      "[183]  38.00000  36.00000  39.00000  55.00000  45.00000  53.00000  42.00000\n",
      "[190]  57.00000  74.00000  93.00000 112.00000  80.00000  57.00000  66.00000\n",
      "[197]  66.00000  65.00000  83.00000  81.00000 105.00000  99.00000  59.00000\n",
      "[204]  87.00000  64.00000  56.00000  46.00000  36.00000  32.00000  34.00000\n",
      "[211]  43.00000  52.00000  50.00000  65.00000  56.00000  36.00000  21.00000\n",
      "[218]  28.00000  31.00000  31.00000  47.00000  57.00000  44.00000  32.00000\n",
      "[225]  41.00000  60.00000  68.00000  76.00000  56.00000  60.00000  66.00000\n",
      "[232]  51.00000  48.00000  39.00000  56.00000  59.00000  51.00000  75.00000\n",
      "[239]  58.00000  21.00000  24.00000  29.00000  17.00000  40.25000  63.50000\n",
      "[246]  86.75000 110.00000  72.00000  46.00000  42.00000  42.00000  48.00000\n",
      "[253]  60.00000  61.00000  60.00000  58.00000  58.00000  78.00000 159.00000\n",
      "[260]  97.00000  70.00000  40.00000  52.00000  55.00000  30.00000  18.00000\n",
      "[267]  33.00000  36.00000  31.00000  33.00000  36.00000  39.00000  36.00000\n",
      "[274]  39.00000  34.00000  57.00000  66.00000  70.00000  54.00000  43.00000\n",
      "[281]  42.00000  51.00000  55.00000  77.00000  76.00000  67.00000  56.00000\n",
      "[288]  68.00000  78.00000  76.00000  66.00000  54.00000  34.00000  30.00000\n",
      "[295]  85.00000 104.00000  35.00000  31.00000  37.00000  53.00000  52.00000\n",
      "[302]  51.00000  48.00000  37.00000  32.00000  37.00000  40.00000  36.00000\n",
      "[309]  39.00000  48.00000  36.00000  50.00000  55.00000  41.00000  43.00000\n",
      "[316]  36.00000  60.00000  57.00000  59.00000  75.00000  63.00000  74.00000\n",
      "[323]  73.00000  58.00000  49.00000  33.00000  41.00000  31.00000  45.00000\n",
      "[330]  86.00000  64.00000  54.00000  41.00000  77.00000 128.00000  34.00000\n",
      "[337]  54.00000  53.00000  48.00000  58.00000  68.00000  41.00000  29.00000\n",
      "[344]  52.00000  64.00000  59.00000  44.00000  26.00000  31.00000  32.00000\n",
      "[351]  44.00000  53.00000  48.00000  54.00000  59.00000  50.00000  73.00000\n",
      "[358] 107.00000 122.00000 142.00000 141.00000 127.00000 105.00000 104.00000\n",
      "[365]  86.00000\n"
     ]
    },
    {
     "data": {
      "text/plain": [
       "   Min. 1st Qu.  Median    Mean 3rd Qu.    Max. \n",
       "  17.00   43.00   53.00   54.07   59.00  159.00 "
      ]
     },
     "metadata": {},
     "output_type": "display_data"
    }
   ],
   "source": [
    "pm25_ts <- ts(data_complete$pm25, frequency = 365)\n",
    "\n",
    "# Check the structure of the time series\n",
    "print(pm25_ts)\n",
    "summary(pm25_ts)"
   ]
  },
  {
   "cell_type": "markdown",
   "metadata": {},
   "source": [
    "## Exploratory Data Analysis (EDA) \n",
    "\n",
    "In this section, we visualize the PM2.5 data and examine its distribution and correlation structure. These plots help us understand the overall behavior of the time series, identify potential trends or seasonal patterns.\n"
   ]
  },
  {
   "cell_type": "markdown",
   "metadata": {},
   "source": [
    "**1. Daily PM2.5 AQI Plot**  \n",
    "\n",
    "- Shows noticeable spikes without a clear long-term trend.  \n",
    "\n",
    "- No strong seasonal pattern, but certain months have notably higher readings.\n"
   ]
  },
  {
   "cell_type": "code",
   "execution_count": 117,
   "metadata": {
    "vscode": {
     "languageId": "r"
    }
   },
   "outputs": [
    {
     "data": {
      "image/png": "[encoded data removed]",
      "text/plain": [
       "plot without title"
      ]
     },
     "metadata": {
      "image/png": {
       "height": 360,
       "width": 720
      }
     },
     "output_type": "display_data"
    }
   ],
   "source": [
    "options(repr.plot.width = 12, repr.plot.height = 6)\n",
    "\n",
    "ggplot(data_complete, aes(x = Date, y = pm25)) +\n",
    "  geom_line(color = \"black\") +\n",
    "  labs(\n",
    "    title = \"Daily PM2.5 AQI\",\n",
    "    x = \"Date\",\n",
    "    y = \"PM2.5 AQI\"\n",
    "  ) +\n",
    "  theme_minimal()\n",
    "\n"
   ]
  },
  {
   "cell_type": "markdown",
   "metadata": {},
   "source": [
    "**2. Histogram**  \n",
    "\n",
    "- Right-skewed distribution with most values between 30–60.  \n",
    "\n",
    "- A long tail above 100 indicates potential outliers.\n"
   ]
  },
  {
   "cell_type": "code",
   "execution_count": 118,
   "metadata": {
    "vscode": {
     "languageId": "r"
    }
   },
   "outputs": [
    {
     "data": {
      "image/png": "[encoded data removed]",
      "text/plain": [
       "plot without title"
      ]
     },
     "metadata": {
      "image/png": {
       "height": 360,
       "width": 720
      }
     },
     "output_type": "display_data"
    }
   ],
   "source": [
    "# Histogram of PM2.5 values\n",
    "ggplot(data_complete, aes(x = pm25)) +\n",
    "  geom_histogram(binwidth = 5, fill = \"blue\", color = \"black\", alpha = 0.7) +\n",
    "  labs(title = \"Histogram of PM2.5 Values\", x = \"PM2.5\", y = \"Frequency\") +\n",
    "  theme_minimal()\n"
   ]
  },
  {
   "cell_type": "markdown",
   "metadata": {},
   "source": [
    "**3. QQ Plot**  \n",
    "- Heavy right tail deviates significantly from the normal line.  \n",
    "\n",
    "- Confirms the distribution is not normal.\n"
   ]
  },
  {
   "cell_type": "code",
   "execution_count": null,
   "metadata": {
    "vscode": {
     "languageId": "r"
    }
   },
   "outputs": [
    {
     "data": {
      "image/png": "[encoded data removed]",
      "text/plain": [
       "Plot with title \"Q-Q Plot of Original Data\""
      ]
     },
     "metadata": {
      "image/png": {
       "height": 360,
       "width": 720
      }
     },
     "output_type": "display_data"
    }
   ],
   "source": [
    "par(bg = \"white\") # Make the background white for visibility \n",
    "\n",
    "# QQ plot\n",
    "qqnorm(data_complete$pm25, \n",
    "       main = \"Q-Q Plot of Original Data\",\n",
    "       col = \"black\",    # color of the points\n",
    "       pch = 1)          # point symbol\n",
    "qqline(data_complete$pm25, col = \"red\", lwd = 2)\n"
   ]
  },
  {
   "cell_type": "markdown",
   "metadata": {},
   "source": [
    "**4. ACF & PACF**  \n",
    "- ACF shows a strong lag-1 correlation but drops quickly afterward.  \n",
    "\n",
    "- PACF has a prominent spike at lag 1, suggesting an AR(1)-type model.\n"
   ]
  },
  {
   "cell_type": "code",
   "execution_count": 122,
   "metadata": {
    "vscode": {
     "languageId": "r"
    }
   },
   "outputs": [
    {
     "data": {
      "image/png": "[encoded data removed]",
      "text/plain": [
       "Plot with title \"ACF of PM2.5 Values\""
      ]
     },
     "metadata": {
      "image/png": {
       "height": 360,
       "width": 720
      }
     },
     "output_type": "display_data"
    },
    {
     "data": {
      "image/png": "[encoded data removed]",
      "text/plain": [
       "Plot with title \"PACF of PM2.5 Values\""
      ]
     },
     "metadata": {
      "image/png": {
       "height": 360,
       "width": 720
      }
     },
     "output_type": "display_data"
    }
   ],
   "source": [
    "par(bg = \"white\") # Make the background white for visibility \n",
    "\n",
    "#ACF Plot for PM2.5 values\n",
    "acf(data_complete$pm25, main = \"ACF of PM2.5 Values\")\n",
    "\n",
    "# PACF Plot for PM2.5 values\n",
    "pacf(data_complete$pm25, main = \"PACF of PM2.5 Values\")"
   ]
  },
  {
   "cell_type": "markdown",
   "metadata": {},
   "source": [
    "### **Overall**  \n",
    "- Data is skewed and shows event-driven spikes rather than seasonality.  \n",
    "\n",
    "- A possible simple ARIMA approach with possible transformation (to handle skewness/outliers) seems appropriate for further modeling.\n"
   ]
  },
  {
   "cell_type": "markdown",
   "metadata": {},
   "source": [
    "## Model Specification and Candidate Evaluation\n",
    "\n",
    "In this phase, we split the dataset into training and testing sets, address outliers, apply variance stabilization, and plot the transformed series. These steps prepare the data for model fitting and help in suggesting candidate models. Evaluating candidate models using AIC and BIC to select and ensure further the candidate models.\n"
   ]
  },
  {
   "cell_type": "markdown",
   "metadata": {},
   "source": [
    "### Data Splitting: Train and Test\n",
    "\n",
    "To effectively train and evaluate our time series models, we split the dataset into two parts:\n",
    "\n",
    "- **Training Set (80%)**: Used to fit and train the model.\n",
    "\n",
    "- **Test Set (20%)**: Used to test and evaluate the model performance on unseen data.\n"
   ]
  },
  {
   "cell_type": "code",
   "execution_count": 123,
   "metadata": {
    "vscode": {
     "languageId": "r"
    }
   },
   "outputs": [
    {
     "name": "stdout",
     "output_type": "stream",
     "text": [
      "[1] 292   2\n",
      "[1] 73  2\n"
     ]
    }
   ],
   "source": [
    "n <- nrow(data_complete) # the total number of observations\n",
    "\n",
    "train_size <- floor(0.8 * n) # the training set size (80% of the dataset)\n",
    "\n",
    "# Split the data: first 80% for training, remaining 20% for testing\n",
    "train <- data_complete[1:train_size, ]\n",
    "test  <- data_complete[(train_size + 1):n, ]\n",
    "\n",
    "# the dimensions of each split\n",
    "print(dim(train))\n",
    "print(dim(test))\n"
   ]
  },
  {
   "cell_type": "markdown",
   "metadata": {},
   "source": [
    "### Outlier Resolution\n",
    "\n",
    "As seen in previous plots, there are noticeable spikes that could distort our model estimation. We detect outliers in the PM2.5 data using the IQR method and replaces them with the median, followed by verifying the cleaning with Z-scores and a histogram.\n"
   ]
  },
  {
   "cell_type": "code",
   "execution_count": 124,
   "metadata": {
    "vscode": {
     "languageId": "r"
    }
   },
   "outputs": [
    {
     "name": "stdout",
     "output_type": "stream",
     "text": [
      "Outliers detected by IQR:\n",
      " 93 112 83 81 105 99 87 21 21 17 86.75 110 159 97 18 \n",
      "\n",
      "Remaining Outliers after IQR Replacement (Z-Score Method):\n",
      "  \n"
     ]
    },
    {
     "data": {
      "image/png": "[encoded data removed]",
      "text/plain": [
       "plot without title"
      ]
     },
     "metadata": {
      "image/png": {
       "height": 360,
       "width": 720
      }
     },
     "output_type": "display_data"
    }
   ],
   "source": [
    "# Store the original PM2.5 values before cleaning\n",
    "train$pm25_original <- train$pm25  \n",
    "\n",
    "# Compute IQR and Detect Outliers\n",
    "Q1 <- quantile(train$pm25, 0.25)\n",
    "Q3 <- quantile(train$pm25, 0.75)\n",
    "IQR <- Q3 - Q1\n",
    "\n",
    "# Define lower and upper bounds for outliers\n",
    "lower_bound <- Q1 - 1.5 * IQR\n",
    "upper_bound <- Q3 + 1.5 * IQR\n",
    "\n",
    "# Identify outliers\n",
    "outliers <- train$pm25[train$pm25 < lower_bound | train$pm25 > upper_bound]\n",
    "cat(\"Outliers detected by IQR:\\n\", outliers, \"\\n\")\n",
    "\n",
    "# Replace Outliers with Median\n",
    "median_value <- median(train$pm25, na.rm = TRUE)\n",
    "\n",
    "# Create a cleaned version\n",
    "train$pm25_cleaned <- train$pm25  \n",
    "train$pm25_cleaned[train$pm25_cleaned < lower_bound | train$pm25_cleaned > upper_bound] <- median_value\n",
    "\n",
    "# Compute Z-Scores After Cleaning\n",
    "train$Z_Score <- scale(train$pm25_cleaned)\n",
    "\n",
    "# Identify any remaining outliers based on Z-score threshold\n",
    "z_outliers <- train$pm25_cleaned[abs(train$Z_Score) > 3]\n",
    "cat(\"\\nRemaining Outliers after IQR Replacement (Z-Score Method):\\n\", z_outliers, \"\\n\")\n",
    "\n",
    "# Plot the cleaned data using a histogram\n",
    "library(ggplot2)\n",
    "ggplot(train, aes(x = Z_Score)) +\n",
    "  geom_histogram(binwidth = 0.2, fill=\"gray\", color=\"black\") +\n",
    "  geom_vline(xintercept = c(-3, 3), color=\"red\", linetype=\"dashed\", size=1) +\n",
    "  ggtitle(\"Histogram of Z-Scores after IQR Cleaning\") +\n",
    "  xlab(\"Z-Scores\") +\n",
    "  ylab(\"Frequency\") +\n",
    "  theme_minimal()\n"
   ]
  },
  {
   "cell_type": "markdown",
   "metadata": {},
   "source": [
    "After handling outliers , the PM2.5 series shows fewer extreme spikes, resulting in a smoother profile."
   ]
  },
  {
   "cell_type": "code",
   "execution_count": 125,
   "metadata": {
    "vscode": {
     "languageId": "r"
    }
   },
   "outputs": [
    {
     "data": {
      "image/png": "[encoded data removed]",
      "text/plain": [
       "plot without title"
      ]
     },
     "metadata": {
      "image/png": {
       "height": 360,
       "width": 720
      }
     },
     "output_type": "display_data"
    }
   ],
   "source": [
    "# Create a data frame for plotting\n",
    "plot_data <- data.frame(\n",
    "  Index = 1:nrow(train),\n",
    "  PM25_Original = train$pm25_original,\n",
    "  PM25_Cleaned = train$pm25_cleaned\n",
    ")\n",
    "\n",
    "plot_data_long <- melt(plot_data, id.vars = \"Index\", variable.name = \"Type\", value.name = \"PM2.5\")\n",
    "\n",
    "# Plot original vs. cleaned PM2.5 values\n",
    "ggplot(plot_data_long, aes(x = Index, y = PM2.5, color = Type)) +\n",
    "  geom_line(size = 1) +\n",
    "  ggtitle(\"Comparison of PM2.5 Before and After Cleaning\") +\n",
    "  xlab(\"Index\") +\n",
    "  ylab(\"PM2.5\") +\n",
    "  theme_minimal() +\n",
    "  scale_color_manual(values = c(\"red\", \"blue\"), labels = c(\"Original\", \"Cleaned\"))\n"
   ]
  },
  {
   "cell_type": "markdown",
   "metadata": {},
   "source": [
    "### Variance Stability\n",
    "\n",
    "To ensure that our time series models meet the assumption of homoscedasticity (constant variance over time), we first examine whether the variance is stable. If the variance increases or decreases significantly with the level of the series, a variance-stabilizing transformation (such as Box-Cox) can help. "
   ]
  },
  {
   "cell_type": "markdown",
   "metadata": {},
   "source": [
    "We start by confirming that the cleaned PM2.5 data has no zero or negative values. Then, we estimate the optimal Box-Cox lambda and apply the transformation.\n"
   ]
  },
  {
   "cell_type": "code",
   "execution_count": 126,
   "metadata": {
    "vscode": {
     "languageId": "r"
    }
   },
   "outputs": [
    {
     "data": {
      "text/plain": [
       "   Min. 1st Qu.  Median    Mean 3rd Qu.    Max. \n",
       "  24.00   45.75   53.00   51.62   57.00   80.00 "
      ]
     },
     "metadata": {},
     "output_type": "display_data"
    }
   ],
   "source": [
    "# Make sure there are no zero or negative values\n",
    "summary(train$pm25_cleaned)\n"
   ]
  },
  {
   "cell_type": "code",
   "execution_count": 127,
   "metadata": {
    "vscode": {
     "languageId": "r"
    }
   },
   "outputs": [
    {
     "name": "stdout",
     "output_type": "stream",
     "text": [
      "Optimal lambda for Box-Cox on cleaned data: 0.3504523 \n"
     ]
    },
    {
     "data": {
      "image/png": "[encoded data removed]",
      "text/plain": [
       "plot without title"
      ]
     },
     "metadata": {
      "image/png": {
       "height": 360,
       "width": 720
      }
     },
     "output_type": "display_data"
    }
   ],
   "source": [
    "# Estimate the optimal lambda for the cleaned PM2.5 data\n",
    "lambda_clean <- BoxCox.lambda(train$pm25_cleaned)\n",
    "cat(\"Optimal lambda for Box-Cox on cleaned data:\", lambda_clean, \"\\n\")\n",
    "\n",
    "# Apply the Box-Cox transformation on the cleaned data\n",
    "train$pm25_boxcox <- BoxCox(train$pm25_cleaned, lambda_clean)\n",
    "\n",
    "# Ensure the Date column is in Date format\n",
    "train$Date <- as.Date(train$Date)\n",
    "\n",
    "# Plot only the Box-Cox transformed data\n",
    "ggplot(train, aes(x = Date, y = pm25_boxcox)) +\n",
    "  geom_line(color = \"black\", na.rm = TRUE) +\n",
    "  labs(\n",
    "    title = paste(\"Box-Cox Transformed PM2.5 (lambda =\", round(lambda_clean, 3), \")\"),\n",
    "    x = \"Date\",\n",
    "    y = \"Box-Cox Transformed PM2.5\"\n",
    "  ) +\n",
    "  theme_minimal()\n"
   ]
  },
  {
   "cell_type": "markdown",
   "metadata": {},
   "source": [
    "#### **Interpretation of Box-Cox Transformation**\n",
    "\n",
    "We found that the optimal lambda for the cleaned PM2.5 data is approximately **0.35**. This compresses larger PM2.5 values more than smaller ones, helping stabilize variance by reducing the impact of extreme spikes.\n",
    "\n",
    "Visually, the variance appears more stable than before, though some moderate fluctuations remain. keeping in mind that minor variance instability may still be present, since this is not for strict inference or precise confidence intervals but for basic forecasting purposes, the current transformation should be sufficient.\n"
   ]
  },
  {
   "cell_type": "markdown",
   "metadata": {},
   "source": [
    "We can now proceed to stationarity checks, autocorrelation analysis, and ultimately fit a time-series model on this Box-Cox-transformed data."
   ]
  },
  {
   "cell_type": "markdown",
   "metadata": {},
   "source": [
    "### Stationarity with the Augmented Dickey-Fuller (ADF) Test\n",
    "\n",
    "To verify that our Box-Cox-transformed series is stationary, we apply the Augmented Dickey-Fuller (ADF) test. "
   ]
  },
  {
   "cell_type": "code",
   "execution_count": 128,
   "metadata": {
    "vscode": {
     "languageId": "r"
    }
   },
   "outputs": [
    {
     "name": "stdout",
     "output_type": "stream",
     "text": [
      "Number of differences recommended: 0 \n"
     ]
    },
    {
     "name": "stderr",
     "output_type": "stream",
     "text": [
      "Warning message in adf.test(train$pm25_boxcox):\n",
      "\"p-value smaller than printed p-value\"\n"
     ]
    },
    {
     "data": {
      "text/plain": [
       "\n",
       "\tAugmented Dickey-Fuller Test\n",
       "\n",
       "data:  train$pm25_boxcox\n",
       "Dickey-Fuller = -4.5167, Lag order = 6, p-value = 0.01\n",
       "alternative hypothesis: stationary\n"
      ]
     },
     "metadata": {},
     "output_type": "display_data"
    }
   ],
   "source": [
    "# This will tell us how many differences are suggested for stationarity\n",
    "diffs_required <- ndiffs(train$pm25_boxcox, test = \"adf\")\n",
    "cat(\"Number of differences recommended:\", diffs_required, \"\\n\")\n",
    "\n",
    "# ADF test\n",
    "adf.test(train$pm25_boxcox)\n"
   ]
  },
  {
   "cell_type": "markdown",
   "metadata": {},
   "source": [
    "#### **Interpretation of ADF Results**\n",
    "\n",
    "- **Test Statistic**: it is sufficiently negative -4.5, it indicates a stronger likelihood of stationarity.\n",
    "\n",
    "- **p-value**: A small p-value 0.01 allows us to reject the null hypothesis of non-stationarity.\n",
    "\n",
    "With a sufficiently negative test statistic and a small p-value, we conclude that the series is likely stationary hence this implies that no further differencing is required for our time-series model.\n"
   ]
  },
  {
   "cell_type": "markdown",
   "metadata": {},
   "source": [
    "### Further Diagnostic Plots\n",
    "\n",
    "To gain deeper insight into the distribution and autocorrelation structure of our Box-Cox-transformed data, we create several plots:\n"
   ]
  },
  {
   "cell_type": "markdown",
   "metadata": {},
   "source": [
    "### 1. Histogram and QQ Plot\n",
    "\n",
    "1. **Histogram** – Shows reduced skewness and a more balanced spread after the Box-Cox transformation, the observations cluster around the center, indicating a possible improvement in normality compared to the original data. \n",
    "\n",
    "2. **QQ Plot** – The points lie reasonably close to the diagonal line, suggesting that the transformed data is approximately normally distributed. Some minor deviations can be seen in the extreme tails, but overall, the fit looks good."
   ]
  },
  {
   "cell_type": "code",
   "execution_count": 27,
   "metadata": {
    "vscode": {
     "languageId": "r"
    }
   },
   "outputs": [
    {
     "data": {
      "image/png": "[encoded data removed]",
      "text/plain": [
       "Plot with title \"QQ Plot of new Transformed PM2.5\""
      ]
     },
     "metadata": {
      "image/png": {
       "height": 360,
       "width": 720
      }
     },
     "output_type": "display_data"
    }
   ],
   "source": [
    "par(bg=\"white\")\n",
    "par(mfrow = c(1, 2))  # side-by-side\n",
    "\n",
    "# 1. Histogram\n",
    "hist(train$pm25_boxcox,\n",
    "     main = \"Histogram of new Transformed PM2.5\",\n",
    "     xlab = \"PM2.5\",\n",
    "     col = \"blue\",\n",
    "     border = \"black\")\n",
    "\n",
    "# 2. QQ Plot\n",
    "qqnorm(train$pm25_boxcox,\n",
    "       main = \"QQ Plot of new Transformed PM2.5\")\n",
    "qqline(train$pm25_boxcox, col = \"red\")\n",
    "par(mfrow = c(1, 1)) \n",
    "\n"
   ]
  },
  {
   "cell_type": "markdown",
   "metadata": {},
   "source": [
    "### 2. ACF and PACF\n",
    "\n",
    "   - The **ACF** plot Indicates significant autocorrelation at lower lags but a faster decay compared to the original series. This maybe a low-order MA or ARMA component.\n",
    "   \n",
    "   - The **PACF** shows a few spikes at the first lags but then quickly settles near zero, suggesting a potential AR(1) or AR(2) structure may capture most of the dependence.\n",
    "   \n",
    "   - Because the **ADF test** indicated no need for differencing (d = 0), a likely starting point could be **ARIMA(p, 0, q)** with small p and q.\n",
    "   Thus we suggest :\n",
    "\n",
    "**Possible Candidate Models:**\n",
    "\n",
    "- **ARIMA(1,0,0):** Suggested by the strong lag-1 partial autocorrelation and relatively quick ACF decay.  \n",
    "\n",
    "- **ARIMA(2,0,0):** There is some autocorrelation at lag 2, a second AR term may improve the fit.  \n",
    "\n",
    "- **ARIMA(1,0,1):** The ACF indicates a short-term MA component, combining AR(1) and MA(1) can capture both immediate and short-lag dependencies. \n",
    "\n",
    "- **ARIMA(1,0,2):** The presence of a stronger second-order MA effect in the ACF suggests that an MA(2) component might better account for short-term fluctuations.  \n",
    "\n",
    "- **ARIMA(2,0,1):** A combination of two AR terms and one MA term could balance both short and slightly longer-term dependencies, as indicated by the PACF and ACF patterns.  \n",
    "\n",
    "\n",
    "In next steps, fitting each of these models and comparing AIC/BIC will help determine the best choice.\n"
   ]
  },
  {
   "cell_type": "code",
   "execution_count": 28,
   "metadata": {
    "vscode": {
     "languageId": "r"
    }
   },
   "outputs": [
    {
     "data": {
      "image/png": "[encoded data removed]",
      "text/plain": [
       "Plot with title \"PACF - new Transformed PM2.5\""
      ]
     },
     "metadata": {
      "image/png": {
       "height": 360,
       "width": 720
      }
     },
     "output_type": "display_data"
    }
   ],
   "source": [
    "par(bg=\"white\")\n",
    "par(mfrow = c(1, 2))  # side-by-side\n",
    "acf(train$pm25_boxcox, main = \"ACF - new Transformed PM2.5\" ,lag.max = 40)\n",
    "pacf(train$pm25_boxcox, main = \"PACF - new Transformed PM2.5\" ,lag.max = 40)\n",
    "par(mfrow = c(1, 1)) \n"
   ]
  },
  {
   "cell_type": "markdown",
   "metadata": {},
   "source": [
    "### 3. **Seasonality Check**\n",
    "\n",
    "   - To check for **weekly or monthly cycle** in the daily data, from the ACF at multiples of 7 (weekly) or ~30 (monthly). We see no prominent spikes at those lags or any repeating seasonal pattern. While there are some minor fluctuations, they don’t suggest a strong seasonal component.\n",
    "   \n",
    "   \n",
    "   - Therefore, there is little evidence of monthly or other longer-term seasonality in this data. **non-seasonal ARIMA** model remains a reasonable choice."
   ]
  },
  {
   "cell_type": "markdown",
   "metadata": {},
   "source": [
    "### **Normality and Randomness Tests**"
   ]
  },
  {
   "cell_type": "code",
   "execution_count": 129,
   "metadata": {
    "vscode": {
     "languageId": "r"
    }
   },
   "outputs": [
    {
     "data": {
      "text/plain": [
       "\n",
       "\tShapiro-Wilk normality test\n",
       "\n",
       "data:  train$pm25_boxcox\n",
       "W = 0.95974, p-value = 3.143e-07\n"
      ]
     },
     "metadata": {},
     "output_type": "display_data"
    }
   ],
   "source": [
    "shapiro_result <- shapiro.test(train$pm25_boxcox)\n",
    "shapiro_result\n"
   ]
  },
  {
   "cell_type": "markdown",
   "metadata": {},
   "source": [
    "### 1. Shapiro-Wilk Normality Test\n",
    "\n",
    "- **Test Statistic (W)**: 0.95974  \n",
    "\n",
    "- **p-value**: 3.143e-07  \n",
    "\n",
    "- **Interpretation**: The small p-value (< 0.05) suggests that we reject the null hypothesis of perfect normality. While previous plots (histogram and QQ plot) showed improved normality, the test indicates some remaining departures, especially in the tails.\n"
   ]
  },
  {
   "cell_type": "code",
   "execution_count": 131,
   "metadata": {
    "vscode": {
     "languageId": "r"
    }
   },
   "outputs": [
    {
     "data": {
      "text/plain": [
       "\n",
       "\tRuns Test\n",
       "\n",
       "data:  train$pm25_boxcox\n",
       "statistic = -8.6258, runs = 63, n1 = 128, n2 = 136, n = 264, p-value <\n",
       "2.2e-16\n",
       "alternative hypothesis: nonrandomness\n"
      ]
     },
     "metadata": {},
     "output_type": "display_data"
    }
   ],
   "source": [
    "runs_test_result <- runs.test(train$pm25_boxcox)\n",
    "runs_test_result\n"
   ]
  },
  {
   "cell_type": "markdown",
   "metadata": {},
   "source": [
    "### 2. Runs Test Independence Test\n",
    "\n",
    "- **Test Statistic (z)**: -8.6258  \n",
    "\n",
    "- **p-value**: 2.2e-16 \n",
    "\n",
    "- **Interpretation**: The runs test very small p-value indicates and statistic strongly rejects the hypothesis of randomness, implying that the observations are not independent. This supports the presence of autocorrelation observed in the ACF/PACF plots, confirming that the series has a significant serial dependence.\n"
   ]
  },
  {
   "cell_type": "markdown",
   "metadata": {},
   "source": [
    "### **Approach for Selecting Candidate ARIMA Models**\n",
    "\n",
    "1. **Initial Selection:**  \n",
    "\n",
    "   - Based on ACF/PACF, choose five candidate models:  \n",
    "     ARIMA(1,0,0), ARIMA(2,0,0), ARIMA(1,0,2), ARIMA(1,0,1), and ARIMA(2,0,1).\n",
    "\n",
    "2. **Refinement Using AIC/BIC:**  \n",
    "\n",
    "   - Compute AIC and BIC for each model and Identify models that perform best on both criteria (those with lowest AIC and BIC), this intersection helps in selecting candidate models that balance *fit* and *parsimony*.\n",
    "\n",
    "3. **Final Choice:**  \n",
    "\n",
    "   - Take the models and perform detailed diagnostics before final selection.\n",
    "\n"
   ]
  },
  {
   "cell_type": "code",
   "execution_count": 132,
   "metadata": {
    "vscode": {
     "languageId": "r"
    }
   },
   "outputs": [
    {
     "data": {
      "text/html": [
       "<table class=\"dataframe\">\n",
       "<caption>A data.frame: 5 × 5</caption>\n",
       "<thead>\n",
       "\t<tr><th></th><th scope=col>p</th><th scope=col>d</th><th scope=col>q</th><th scope=col>AIC</th><th scope=col>BIC</th></tr>\n",
       "\t<tr><th></th><th scope=col>&lt;dbl&gt;</th><th scope=col>&lt;dbl&gt;</th><th scope=col>&lt;dbl&gt;</th><th scope=col>&lt;dbl&gt;</th><th scope=col>&lt;dbl&gt;</th></tr>\n",
       "</thead>\n",
       "<tbody>\n",
       "\t<tr><th scope=row>1</th><td>1</td><td>0</td><td>0</td><td>619.4521</td><td>630.4824</td></tr>\n",
       "\t<tr><th scope=row>3</th><td>1</td><td>0</td><td>1</td><td>621.2811</td><td>635.9882</td></tr>\n",
       "\t<tr><th scope=row>2</th><td>2</td><td>0</td><td>0</td><td>621.2823</td><td>635.9893</td></tr>\n",
       "\t<tr><th scope=row>4</th><td>1</td><td>0</td><td>2</td><td>623.2793</td><td>641.6631</td></tr>\n",
       "\t<tr><th scope=row>5</th><td>2</td><td>0</td><td>1</td><td>623.2824</td><td>641.6662</td></tr>\n",
       "</tbody>\n",
       "</table>\n"
      ],
      "text/latex": [
       "A data.frame: 5 × 5\n",
       "\\begin{tabular}{r|lllll}\n",
       "  & p & d & q & AIC & BIC\\\\\n",
       "  & <dbl> & <dbl> & <dbl> & <dbl> & <dbl>\\\\\n",
       "\\hline\n",
       "\t1 & 1 & 0 & 0 & 619.4521 & 630.4824\\\\\n",
       "\t3 & 1 & 0 & 1 & 621.2811 & 635.9882\\\\\n",
       "\t2 & 2 & 0 & 0 & 621.2823 & 635.9893\\\\\n",
       "\t4 & 1 & 0 & 2 & 623.2793 & 641.6631\\\\\n",
       "\t5 & 2 & 0 & 1 & 623.2824 & 641.6662\\\\\n",
       "\\end{tabular}\n"
      ],
      "text/markdown": [
       "\n",
       "A data.frame: 5 × 5\n",
       "\n",
       "| <!--/--> | p &lt;dbl&gt; | d &lt;dbl&gt; | q &lt;dbl&gt; | AIC &lt;dbl&gt; | BIC &lt;dbl&gt; |\n",
       "|---|---|---|---|---|---|\n",
       "| 1 | 1 | 0 | 0 | 619.4521 | 630.4824 |\n",
       "| 3 | 1 | 0 | 1 | 621.2811 | 635.9882 |\n",
       "| 2 | 2 | 0 | 0 | 621.2823 | 635.9893 |\n",
       "| 4 | 1 | 0 | 2 | 623.2793 | 641.6631 |\n",
       "| 5 | 2 | 0 | 1 | 623.2824 | 641.6662 |\n",
       "\n"
      ],
      "text/plain": [
       "  p d q AIC      BIC     \n",
       "1 1 0 0 619.4521 630.4824\n",
       "3 1 0 1 621.2811 635.9882\n",
       "2 2 0 0 621.2823 635.9893\n",
       "4 1 0 2 623.2793 641.6631\n",
       "5 2 0 1 623.2824 641.6662"
      ]
     },
     "metadata": {},
     "output_type": "display_data"
    },
    {
     "data": {
      "text/html": [
       "<table class=\"dataframe\">\n",
       "<caption>A data.frame: 5 × 5</caption>\n",
       "<thead>\n",
       "\t<tr><th></th><th scope=col>p</th><th scope=col>d</th><th scope=col>q</th><th scope=col>AIC</th><th scope=col>BIC</th></tr>\n",
       "\t<tr><th></th><th scope=col>&lt;dbl&gt;</th><th scope=col>&lt;dbl&gt;</th><th scope=col>&lt;dbl&gt;</th><th scope=col>&lt;dbl&gt;</th><th scope=col>&lt;dbl&gt;</th></tr>\n",
       "</thead>\n",
       "<tbody>\n",
       "\t<tr><th scope=row>1</th><td>1</td><td>0</td><td>0</td><td>619.4521</td><td>630.4824</td></tr>\n",
       "\t<tr><th scope=row>3</th><td>1</td><td>0</td><td>1</td><td>621.2811</td><td>635.9882</td></tr>\n",
       "\t<tr><th scope=row>2</th><td>2</td><td>0</td><td>0</td><td>621.2823</td><td>635.9893</td></tr>\n",
       "\t<tr><th scope=row>4</th><td>1</td><td>0</td><td>2</td><td>623.2793</td><td>641.6631</td></tr>\n",
       "\t<tr><th scope=row>5</th><td>2</td><td>0</td><td>1</td><td>623.2824</td><td>641.6662</td></tr>\n",
       "</tbody>\n",
       "</table>\n"
      ],
      "text/latex": [
       "A data.frame: 5 × 5\n",
       "\\begin{tabular}{r|lllll}\n",
       "  & p & d & q & AIC & BIC\\\\\n",
       "  & <dbl> & <dbl> & <dbl> & <dbl> & <dbl>\\\\\n",
       "\\hline\n",
       "\t1 & 1 & 0 & 0 & 619.4521 & 630.4824\\\\\n",
       "\t3 & 1 & 0 & 1 & 621.2811 & 635.9882\\\\\n",
       "\t2 & 2 & 0 & 0 & 621.2823 & 635.9893\\\\\n",
       "\t4 & 1 & 0 & 2 & 623.2793 & 641.6631\\\\\n",
       "\t5 & 2 & 0 & 1 & 623.2824 & 641.6662\\\\\n",
       "\\end{tabular}\n"
      ],
      "text/markdown": [
       "\n",
       "A data.frame: 5 × 5\n",
       "\n",
       "| <!--/--> | p &lt;dbl&gt; | d &lt;dbl&gt; | q &lt;dbl&gt; | AIC &lt;dbl&gt; | BIC &lt;dbl&gt; |\n",
       "|---|---|---|---|---|---|\n",
       "| 1 | 1 | 0 | 0 | 619.4521 | 630.4824 |\n",
       "| 3 | 1 | 0 | 1 | 621.2811 | 635.9882 |\n",
       "| 2 | 2 | 0 | 0 | 621.2823 | 635.9893 |\n",
       "| 4 | 1 | 0 | 2 | 623.2793 | 641.6631 |\n",
       "| 5 | 2 | 0 | 1 | 623.2824 | 641.6662 |\n",
       "\n"
      ],
      "text/plain": [
       "  p d q AIC      BIC     \n",
       "1 1 0 0 619.4521 630.4824\n",
       "3 1 0 1 621.2811 635.9882\n",
       "2 2 0 0 621.2823 635.9893\n",
       "4 1 0 2 623.2793 641.6631\n",
       "5 2 0 1 623.2824 641.6662"
      ]
     },
     "metadata": {},
     "output_type": "display_data"
    }
   ],
   "source": [
    "# Define the candidate ARIMA orders\n",
    "candidate_models <- list(\n",
    "  c(1, 0, 0),\n",
    "  c(2, 0, 0),\n",
    "  c(1, 0, 1),\n",
    "  c(1, 0, 2),\n",
    "  c(2, 0, 1)\n",
    "\n",
    ")\n",
    "\n",
    "# Initialize a data frame to store results\n",
    "model_results <- data.frame(\n",
    "  p = integer(),\n",
    "  d = integer(),\n",
    "  q = integer(),\n",
    "  AIC = numeric(),\n",
    "  BIC = numeric()\n",
    ")\n",
    "\n",
    "# Loop through each candidate model\n",
    "for (model_order in candidate_models) {\n",
    "  p <- model_order[1]\n",
    "  d <- model_order[2]\n",
    "  q <- model_order[3]\n",
    "  \n",
    "  # Fit the ARIMA model on the Box-Cox transformed training data\n",
    "  fit <- arima(train$pm25_boxcox, order = c(p, d, q))\n",
    "  \n",
    "  # Extract AIC and BIC\n",
    "  aic_value <- AIC(fit)\n",
    "  bic_value <- BIC(fit)\n",
    "  \n",
    "  # Append results to the data frame\n",
    "  model_results <- rbind(\n",
    "    model_results,\n",
    "    data.frame(p = p, d = d, q = q, AIC = aic_value, BIC = bic_value)\n",
    "  )\n",
    "}\n",
    "\n",
    "#  order the results by BIC or AIC for convenience\n",
    "model_results[order(model_results$BIC), ]\n",
    "model_results[order(model_results$AIC), ]\n"
   ]
  },
  {
   "cell_type": "markdown",
   "metadata": {},
   "source": [
    "- **Top Candidate:**  \n",
    "\n",
    "ARIMA(1,0,0) (AIC: 619.45, BIC: 630.48) has the lowest AIC and BIC, indicating it strikes the best balance between fit and complexity among the five candidates.\n",
    "\n",
    "- **other Candidate:**  \n",
    "\n",
    "ARIMA(2,0,0) and ARIMA(1,0,1) are close contenders but show slightly higher AIC/BIC values.\n",
    "\n",
    "Overall, either ARIMA(1,0,0) or ARIMA(1,0,1) or ARIMA(2,0,0) is a strong candidate. Final selection will be guided by diagnostic checks and forecast performance ."
   ]
  },
  {
   "cell_type": "markdown",
   "metadata": {},
   "source": [
    "## Fitting and Diagnostics\n",
    "\n",
    "In this step, we fit the three most promising ARIMA models—ARIMA(1,0,1), ARIMA(1,0,0), and ARIMA(2,0,0)—to our transformed data. We then perform diagnostic checks (e.g., residual plots, Ljung-Box test) to assess model adequacy and confirm which model best captures the data's structure without leaving significant patterns in the residuals.\n"
   ]
  },
  {
   "cell_type": "markdown",
   "metadata": {},
   "source": [
    "### Fitting ARIMA(1,0,1) Model\n"
   ]
  },
  {
   "cell_type": "code",
   "execution_count": 76,
   "metadata": {
    "vscode": {
     "languageId": "r"
    }
   },
   "outputs": [
    {
     "data": {
      "text/plain": [
       "Series: train$pm25_boxcox \n",
       "ARIMA(1,0,1) with non-zero mean \n",
       "\n",
       "Coefficients:\n",
       "         ar1      ma1    mean\n",
       "      0.6490  -0.0388  8.4568\n",
       "s.e.  0.0712   0.0939  0.1101\n",
       "\n",
       "sigma^2 = 0.4824:  log likelihood = -306.64\n",
       "AIC=621.28   AICc=621.42   BIC=635.99\n",
       "\n",
       "Training set error measures:\n",
       "                       ME      RMSE       MAE        MPE     MAPE      MASE\n",
       "Training set -0.002497755 0.6909754 0.5153909 -0.7708031 6.370817 0.9479692\n",
       "                     ACF1\n",
       "Training set 0.0006038118"
      ]
     },
     "metadata": {},
     "output_type": "display_data"
    }
   ],
   "source": [
    "arima_model_101 <- Arima(train$pm25_boxcox, order = c(1, 0, 1))\n",
    "\n",
    "# Display a summary of the model\n",
    "summary(arima_model_101)"
   ]
  },
  {
   "cell_type": "code",
   "execution_count": 77,
   "metadata": {
    "vscode": {
     "languageId": "r"
    }
   },
   "outputs": [
    {
     "name": "stdout",
     "output_type": "stream",
     "text": [
      "\n",
      "\tLjung-Box test\n",
      "\n",
      "data:  Residuals from ARIMA(1,0,1) with non-zero mean\n",
      "Q* = 18.866, df = 8, p-value = 0.01559\n",
      "\n",
      "Model df: 2.   Total lags used: 10\n",
      "\n"
     ]
    },
    {
     "data": {
      "image/png": "[encoded data removed]",
      "text/plain": [
       "plot without title"
      ]
     },
     "metadata": {
      "image/png": {
       "height": 360,
       "width": 720
      }
     },
     "output_type": "display_data"
    }
   ],
   "source": [
    "# Diagnostic checks using checkresiduals() from the forecast package\n",
    "checkresiduals(arima_model_101)"
   ]
  },
  {
   "cell_type": "code",
   "execution_count": 78,
   "metadata": {
    "vscode": {
     "languageId": "r"
    }
   },
   "outputs": [],
   "source": [
    "# Extract residuals from the model\n",
    "residuals_101 <- residuals(arima_model_101)"
   ]
  },
  {
   "cell_type": "code",
   "execution_count": 79,
   "metadata": {
    "vscode": {
     "languageId": "r"
    }
   },
   "outputs": [
    {
     "data": {
      "image/png": "[encoded data removed]",
      "text/plain": [
       "Plot with title \"Residuals of ARIMA(1,0,1) Model\""
      ]
     },
     "metadata": {
      "image/png": {
       "height": 360,
       "width": 720
      }
     },
     "output_type": "display_data"
    }
   ],
   "source": [
    "par(bg=\"white\")\n",
    "# Plot the residuals over time\n",
    "plot(residuals_101, main = \"Residuals of ARIMA(1,0,1) Model\", ylab = \"Residuals\")\n"
   ]
  },
  {
   "cell_type": "code",
   "execution_count": 80,
   "metadata": {
    "vscode": {
     "languageId": "r"
    }
   },
   "outputs": [
    {
     "data": {
      "image/png": "[encoded data removed]",
      "text/plain": [
       "Plot with title \"Q-Q Plot of Residuals\""
      ]
     },
     "metadata": {
      "image/png": {
       "height": 360,
       "width": 720
      }
     },
     "output_type": "display_data"
    }
   ],
   "source": [
    "# Set white background and arrange plots side by side\n",
    "par(bg = \"white\", mfrow = c(1, 2))\n",
    "\n",
    "# Histogram of residuals\n",
    "hist(residuals_101, main = \"Histogram of Residuals\", xlab = \"Residuals\", col = \"blue\")\n",
    "\n",
    "# Q-Q plot to check for normality\n",
    "qqnorm(residuals_101, main = \"Q-Q Plot of Residuals\")\n",
    "qqline(residuals_101)\n",
    "\n",
    "# Reset plotting layout\n",
    "par(mfrow = c(1, 1))\n"
   ]
  },
  {
   "cell_type": "code",
   "execution_count": 81,
   "metadata": {
    "vscode": {
     "languageId": "r"
    }
   },
   "outputs": [
    {
     "data": {
      "image/png": "[encoded data removed]",
      "text/plain": [
       "Plot with title \"PACF of Residuals\""
      ]
     },
     "metadata": {
      "image/png": {
       "height": 360,
       "width": 720
      }
     },
     "output_type": "display_data"
    }
   ],
   "source": [
    "par(bg=\"white\")\n",
    "\n",
    "# Check for autocorrelation in the residuals\n",
    "par(mfrow = c(1, 2))\n",
    "acf(residuals_101, main = \"ACF of Residuals\")\n",
    "pacf(residuals_101, main = \"PACF of Residuals\")\n",
    "par(mfrow = c(1, 1))\n"
   ]
  },
  {
   "cell_type": "code",
   "execution_count": 82,
   "metadata": {
    "vscode": {
     "languageId": "r"
    }
   },
   "outputs": [
    {
     "data": {
      "text/plain": [
       "\n",
       "\tShapiro-Wilk normality test\n",
       "\n",
       "data:  residuals_101\n",
       "W = 0.97796, p-value = 0.000179\n"
      ]
     },
     "metadata": {},
     "output_type": "display_data"
    }
   ],
   "source": [
    "# Shapiro-Wilk test for normality of residuals\n",
    "shapiro.test(residuals_101)"
   ]
  },
  {
   "cell_type": "code",
   "execution_count": 84,
   "metadata": {
    "vscode": {
     "languageId": "r"
    }
   },
   "outputs": [
    {
     "name": "stdout",
     "output_type": "stream",
     "text": [
      "\n",
      "\tRuns Test\n",
      "\n",
      "data:  residuals_101\n",
      "statistic = -2.2276, runs = 128, n1 = 146, n2 = 146, n = 292, p-value =\n",
      "0.02591\n",
      "alternative hypothesis: nonrandomness\n",
      "\n"
     ]
    }
   ],
   "source": [
    "\n",
    "\n",
    "runs_test_result <- runs.test(residuals_101)\n",
    "print(runs_test_result)"
   ]
  },
  {
   "cell_type": "markdown",
   "metadata": {},
   "source": [
    "### Model Validation: ARIMA(1,0,1)\n",
    "\n",
    "**1. Residual Plots (Time Series & Histogram)**\n",
    "\n",
    "- The residuals fluctuate around zero with no obvious large trends. That suggests the model is capturing a fair amount of structure.\n",
    "- The histogram of residuals looks roughly bell-shaped, though the **Shapiro–Wilk test** (p = 0.000179) indicates it’s not perfectly normal. \n",
    "\n",
    "**2. ACF/PACF of Residuals**\n",
    "\n",
    "- Most lags appear within the blue confidence bands, it means there’s no major autocorrelation left.\n",
    "\n",
    "- However, there are lags stands out above the bands. \n",
    "\n",
    "**3. Ljung–Box Test**\n",
    "\n",
    "- The test result is below the 0.05 threshold, suggesting there is some leftover autocorrelation in the residuals.\n",
    "\n",
    "- Since the p-value is around 0.0156, it’s not extremely low, but still indicates some structure remains.\n",
    "\n",
    "**4. Runs Test**\n",
    "\n",
    "- The runs test (p = 0.02591) suggests some degree of non-randomness in the sequence of residuals.\n",
    "\n",
    "- It’s below 0.05, so it points to some pattern left henec it suggests nonrandomness in the residuals, meaning the model may not fully capture the underlying pattern in the data. \n",
    "\n",
    "**Overall Assessment**\n",
    "\n",
    "Residuals are reasonably centered around zero and Mostly within the confidence bands in the ACF/PACF. The shape of the histogram is not far from normal.\n",
    "\n",
    "But since The **Ljung–Box** and **Runs tests** show statistically significant leftover structure. The residuals may still contain a slight pattern that ARIMA(1,0,1) is not capturing.\n",
    "\n",
    "Overall, **ARIMA(1,0,1)** is a **NOT** viable model for forecasting PM2.5 on the transformed data.\n",
    "\n",
    "\n"
   ]
  },
  {
   "cell_type": "markdown",
   "metadata": {},
   "source": [
    "### Fitting ARIMA(2,0,0) Model\n"
   ]
  },
  {
   "cell_type": "code",
   "execution_count": 134,
   "metadata": {
    "vscode": {
     "languageId": "r"
    }
   },
   "outputs": [
    {
     "data": {
      "text/plain": [
       "Series: train$pm25_boxcox \n",
       "ARIMA(2,0,0) with non-zero mean \n",
       "\n",
       "Coefficients:\n",
       "         ar1     ar2    mean\n",
       "      0.6103  0.0242  8.4567\n",
       "s.e.  0.0584  0.0586  0.1100\n",
       "\n",
       "sigma^2 = 0.4824:  log likelihood = -306.64\n",
       "AIC=621.28   AICc=621.42   BIC=635.99\n",
       "\n",
       "Training set error measures:\n",
       "                       ME      RMSE      MAE        MPE     MAPE      MASE\n",
       "Training set -0.002481563 0.6909767 0.515418 -0.7705986 6.371098 0.9480191\n",
       "                     ACF1\n",
       "Training set 0.0004993896"
      ]
     },
     "metadata": {},
     "output_type": "display_data"
    }
   ],
   "source": [
    "arima_model_200 <- Arima(train$pm25_boxcox, order = c(2, 0, 0))\n",
    "\n",
    "# Display a summary of the model\n",
    "summary(arima_model_200)"
   ]
  },
  {
   "cell_type": "code",
   "execution_count": 135,
   "metadata": {
    "vscode": {
     "languageId": "r"
    }
   },
   "outputs": [
    {
     "name": "stdout",
     "output_type": "stream",
     "text": [
      "\n",
      "\tLjung-Box test\n",
      "\n",
      "data:  Residuals from ARIMA(2,0,0) with non-zero mean\n",
      "Q* = 18.862, df = 8, p-value = 0.01562\n",
      "\n",
      "Model df: 2.   Total lags used: 10\n",
      "\n"
     ]
    },
    {
     "data": {
      "image/png": "[encoded data removed]",
      "text/plain": [
       "plot without title"
      ]
     },
     "metadata": {
      "image/png": {
       "height": 360,
       "width": 720
      }
     },
     "output_type": "display_data"
    }
   ],
   "source": [
    "# Diagnostic checks using checkresiduals() from the forecast package\n",
    "checkresiduals(arima_model_200)\n"
   ]
  },
  {
   "cell_type": "code",
   "execution_count": 138,
   "metadata": {
    "vscode": {
     "languageId": "r"
    }
   },
   "outputs": [
    {
     "data": {
      "image/png": "[encoded data removed]",
      "text/plain": [
       "Plot with title \"Residuals of ARIMA(2,0,0) Model\""
      ]
     },
     "metadata": {
      "image/png": {
       "height": 360,
       "width": 720
      }
     },
     "output_type": "display_data"
    }
   ],
   "source": [
    "par(bg=\"white\")\n",
    "# Extract residuals\n",
    "residuals_200 <- residuals(arima_model_200)\n",
    "\n",
    "# Plot the residuals over time\n",
    "plot(residuals_200, main = \"Residuals of ARIMA(2,0,0) Model\", ylab = \"Residuals\")\n"
   ]
  },
  {
   "cell_type": "code",
   "execution_count": 137,
   "metadata": {
    "vscode": {
     "languageId": "r"
    }
   },
   "outputs": [
    {
     "data": {
      "image/png": "[encoded data removed]",
      "text/plain": [
       "Plot with title \"Q-Q Plot of Residuals (ARIMA(2,0,0))\""
      ]
     },
     "metadata": {
      "image/png": {
       "height": 360,
       "width": 720
      }
     },
     "output_type": "display_data"
    }
   ],
   "source": [
    "# Plot Histogram and Q-Q plot side by side\n",
    "par(bg = \"white\", mfrow = c(1, 2))\n",
    "\n",
    "# Histogram of residuals\n",
    "hist(residuals_200, main = \"Histogram of Residuals (ARIMA(2,0,0))\", xlab = \"Residuals\", col = \"blue\")\n",
    "\n",
    "# Q-Q plot for normality check\n",
    "qqnorm(residuals_200, main = \"Q-Q Plot of Residuals (ARIMA(2,0,0))\")\n",
    "qqline(residuals_200)\n",
    "\n",
    "# Reset plotting layout\n",
    "par(mfrow = c(1, 1))"
   ]
  },
  {
   "cell_type": "code",
   "execution_count": 139,
   "metadata": {
    "vscode": {
     "languageId": "r"
    }
   },
   "outputs": [
    {
     "data": {
      "image/png": "[encoded data removed]",
      "text/plain": [
       "Plot with title \"PACF of Residuals (ARIMA(2,0,0))\""
      ]
     },
     "metadata": {
      "image/png": {
       "height": 360,
       "width": 720
      }
     },
     "output_type": "display_data"
    }
   ],
   "source": [
    "par(bg = \"white\", mfrow = c(1, 2))\n",
    "\n",
    "# Check for autocorrelation in residuals\n",
    "par(mfrow = c(1, 2))\n",
    "acf(residuals_200, main = \"ACF of Residuals (ARIMA(2,0,0))\")\n",
    "pacf(residuals_200, main = \"PACF of Residuals (ARIMA(2,0,0))\")\n",
    "par(mfrow = c(1, 1))"
   ]
  },
  {
   "cell_type": "code",
   "execution_count": 140,
   "metadata": {
    "vscode": {
     "languageId": "r"
    }
   },
   "outputs": [
    {
     "data": {
      "text/plain": [
       "\n",
       "\tShapiro-Wilk normality test\n",
       "\n",
       "data:  residuals_200\n",
       "W = 0.97798, p-value = 0.00018\n"
      ]
     },
     "metadata": {},
     "output_type": "display_data"
    }
   ],
   "source": [
    "# Shapiro-Wilk test for normality\n",
    "shapiro.test(residuals_200)"
   ]
  },
  {
   "cell_type": "code",
   "execution_count": 141,
   "metadata": {
    "vscode": {
     "languageId": "r"
    }
   },
   "outputs": [
    {
     "name": "stdout",
     "output_type": "stream",
     "text": [
      "\n",
      "\tRuns Test\n",
      "\n",
      "data:  residuals_200\n",
      "statistic = -2.1177, runs = 128, n1 = 145, n2 = 145, n = 290, p-value =\n",
      "0.0342\n",
      "alternative hypothesis: nonrandomness\n",
      "\n"
     ]
    }
   ],
   "source": [
    "\n",
    "runs_test_200 <- runs.test(residuals_200)\n",
    "print(runs_test_200)"
   ]
  },
  {
   "cell_type": "markdown",
   "metadata": {},
   "source": [
    "### Model Validation: ARIMA(2,0,0)\n",
    "\n",
    "**1. Residual Plots (Time Series & Histogram)**  \n",
    "\n",
    "- The time series plot of residuals shows random fluctuations around zero, which is expected in a well-fitted model.  \n",
    "\n",
    "- The histogram of residuals appears approximately normal but might exhibit slight deviations from normality.  \n",
    "\n",
    "**2. ACF/PACF of Residuals** \n",
    "\n",
    "- The ACF plot of residuals shows that most autocorrelations fall within the confidence limits, indicating no strong serial correlation.  \n",
    "\n",
    "- However, a few significant spikes suggest the presence of some remaining structure.  \n",
    "\n",
    "**3. Ljung–Box Test**   \n",
    "\n",
    "- The low p-value suggests that the residuals are not entirely uncorrelated, implying that some structure remains unexplained by the model.  \n",
    "\n",
    "**4. Runs Test**   \n",
    "\n",
    "- A small p-value suggests nonrandomness in the residuals, meaning the model may not fully capture the underlying pattern in the data.  \n",
    "\n",
    "**Overall Assessment**  \n",
    "\n",
    "- The residual diagnostics show some signs of model inadequacy since the Ljung-Box test indicates potential autocorrelation and the runs test suggests \n",
    "nonrandomness in the residuals and the Shapiro-Wilk test indicates that residuals deviate from normality.  \n",
    "\n",
    "Overall, the ARIMA(2,0,0) model is **NOT** fully adequate.\n"
   ]
  },
  {
   "cell_type": "markdown",
   "metadata": {},
   "source": [
    "### Fitting ARIMA(1,0,0) Model\n"
   ]
  },
  {
   "cell_type": "code",
   "execution_count": 142,
   "metadata": {
    "vscode": {
     "languageId": "r"
    }
   },
   "outputs": [
    {
     "data": {
      "text/plain": [
       "Series: train$pm25_boxcox \n",
       "ARIMA(1,0,0) with non-zero mean \n",
       "\n",
       "Coefficients:\n",
       "         ar1    mean\n",
       "      0.6254  8.4561\n",
       "s.e.  0.0455  0.1074\n",
       "\n",
       "sigma^2 = 0.481:  log likelihood = -306.73\n",
       "AIC=619.45   AICc=619.54   BIC=630.48\n",
       "\n",
       "Training set error measures:\n",
       "                       ME      RMSE       MAE        MPE     MAPE      MASE\n",
       "Training set -0.002346906 0.6911791 0.5157875 -0.7694885 6.376266 0.9486987\n",
       "                    ACF1\n",
       "Training set -0.01442029"
      ]
     },
     "metadata": {},
     "output_type": "display_data"
    }
   ],
   "source": [
    "# Fit ARIMA(1,0,0) model on the Box-Cox–transformed PM2.5 data\n",
    "arima_model_100 <- Arima(train$pm25_boxcox, order = c(1, 0, 0))\n",
    "\n",
    "# Display a summary of the model\n",
    "summary(arima_model_100)\n"
   ]
  },
  {
   "cell_type": "code",
   "execution_count": 143,
   "metadata": {
    "vscode": {
     "languageId": "r"
    }
   },
   "outputs": [
    {
     "name": "stdout",
     "output_type": "stream",
     "text": [
      "\n",
      "\tLjung-Box test\n",
      "\n",
      "data:  Residuals from ARIMA(1,0,0) with non-zero mean\n",
      "Q* = 19.784, df = 9, p-value = 0.01929\n",
      "\n",
      "Model df: 1.   Total lags used: 10\n",
      "\n"
     ]
    },
    {
     "data": {
      "image/png": "[encoded data removed]",
      "text/plain": [
       "plot without title"
      ]
     },
     "metadata": {
      "image/png": {
       "height": 360,
       "width": 720
      }
     },
     "output_type": "display_data"
    }
   ],
   "source": [
    "# Diagnostic checks using checkresiduals() from the forecast package\n",
    "checkresiduals(arima_model_100)\n"
   ]
  },
  {
   "cell_type": "code",
   "execution_count": 144,
   "metadata": {
    "vscode": {
     "languageId": "r"
    }
   },
   "outputs": [
    {
     "data": {
      "image/png": "[encoded data removed]",
      "text/plain": [
       "Plot with title \"Residuals of ARIMA(1,0,0) Model\""
      ]
     },
     "metadata": {
      "image/png": {
       "height": 360,
       "width": 720
      }
     },
     "output_type": "display_data"
    }
   ],
   "source": [
    "par(bg=\"white\")\n",
    "\n",
    "# Extract residuals\n",
    "residuals_100 <- residuals(arima_model_100)\n",
    "\n",
    "# Plot the residuals over time\n",
    "plot(residuals_100, main = \"Residuals of ARIMA(1,0,0) Model\", ylab = \"Residuals\")\n"
   ]
  },
  {
   "cell_type": "code",
   "execution_count": 145,
   "metadata": {
    "vscode": {
     "languageId": "r"
    }
   },
   "outputs": [
    {
     "data": {
      "image/png": "[encoded data removed]",
      "text/plain": [
       "Plot with title \"Q-Q Plot of Residuals (ARIMA(1,0,0))\""
      ]
     },
     "metadata": {
      "image/png": {
       "height": 360,
       "width": 720
      }
     },
     "output_type": "display_data"
    }
   ],
   "source": [
    "# Plot Histogram and Q-Q plot side by side\n",
    "par(bg = \"white\", mfrow = c(1, 2))\n",
    "\n",
    "# Histogram of residuals\n",
    "hist(residuals_100, main = \"Histogram of Residuals (ARIMA(1,0,0))\", xlab = \"Residuals\", col = \"blue\")\n",
    "\n",
    "# Q-Q plot for normality check\n",
    "qqnorm(residuals_100, main = \"Q-Q Plot of Residuals (ARIMA(1,0,0))\")\n",
    "qqline(residuals_100)\n",
    "\n",
    "# Reset plotting layout\n",
    "par(mfrow = c(1, 1))\n"
   ]
  },
  {
   "cell_type": "code",
   "execution_count": 146,
   "metadata": {
    "vscode": {
     "languageId": "r"
    }
   },
   "outputs": [
    {
     "data": {
      "image/png": "[encoded data removed]",
      "text/plain": [
       "Plot with title \"PACF of Residuals (ARIMA(1,0,0))\""
      ]
     },
     "metadata": {
      "image/png": {
       "height": 360,
       "width": 720
      }
     },
     "output_type": "display_data"
    }
   ],
   "source": [
    "# Check for autocorrelation in residuals\n",
    "par(bg = \"white\", mfrow = c(1, 2))\n",
    "acf(residuals_100, main = \"ACF of Residuals (ARIMA(1,0,0))\")\n",
    "pacf(residuals_100, main = \"PACF of Residuals (ARIMA(1,0,0))\")\n",
    "par(mfrow = c(1, 1))\n"
   ]
  },
  {
   "cell_type": "code",
   "execution_count": 147,
   "metadata": {
    "vscode": {
     "languageId": "r"
    }
   },
   "outputs": [
    {
     "data": {
      "text/plain": [
       "\n",
       "\tShapiro-Wilk normality test\n",
       "\n",
       "data:  residuals_100\n",
       "W = 0.97706, p-value = 0.0001245\n"
      ]
     },
     "metadata": {},
     "output_type": "display_data"
    }
   ],
   "source": [
    "# Shapiro-Wilk test for normality\n",
    "shapiro.test(residuals_100)\n"
   ]
  },
  {
   "cell_type": "code",
   "execution_count": 148,
   "metadata": {
    "vscode": {
     "languageId": "r"
    }
   },
   "outputs": [
    {
     "name": "stdout",
     "output_type": "stream",
     "text": [
      "\n",
      "\tRuns Test\n",
      "\n",
      "data:  residuals_100\n",
      "statistic = -1.8926, runs = 128, n1 = 145, n2 = 141, n = 286, p-value =\n",
      "0.05841\n",
      "alternative hypothesis: nonrandomness\n",
      "\n"
     ]
    }
   ],
   "source": [
    "\n",
    "runs_test_100 <- runs.test(residuals_100)\n",
    "print(runs_test_100)"
   ]
  },
  {
   "cell_type": "markdown",
   "metadata": {},
   "source": [
    "### Model Validation: ARIMA(1,0,0)\n",
    "\n",
    "**1. Residual Plots (Time Series & Histogram)**  \n",
    "\n",
    "- The time series plot of residuals shows random fluctuations around zero, which is expected for a well-fitted model.  \n",
    "\n",
    "- The histogram appears approximately normal, although slight deviations from normality are evident.\n",
    "\n",
    "**2. ACF/PACF of Residuals**  \n",
    "\n",
    "- The ACF plot indicates that most autocorrelations lie within the confidence limits, suggesting minimal serial correlation.  \n",
    "\n",
    "- A few minor spikes maybe some remaining structure in the residuals.\n",
    "\n",
    "**3. Ljung–Box Test**  \n",
    "\n",
    "- The test yields a *p*-value of ~0.019, which is below the 0.05 threshold.\n",
    "\n",
    "- This indicates the presence of some leftover autocorrelation, but it is comparable to ARIMA(1,0,1) and better than ARIMA(2,0,0).\n",
    "\n",
    "**4. Runs Test**  \n",
    "\n",
    "- The Runs test gives a *p*-value of ~0.058, which is above 0.05.\n",
    "\n",
    "- This indicates that the signs of the residuals appear to be random.\n",
    "\n",
    "**5. Shapiro–Wilk Test**  \n",
    "\n",
    "- The Shapiro–Wilk test results in a *p*-value of 0.0001245, indicating that the residuals deviate from perfect normality.  \n",
    "\n",
    "- However, the histogram and Q–Q plot do not reveal extreme departures from normality.\n",
    "\n",
    "**Overall Assessment**  \n",
    "\n",
    "- ARIMA(1,0,0) is the simplest model (with the fewest parameters) and has the best AIC/BIC among the alternatives.  \n",
    "\n",
    "- While the Ljung–Box test shows borderline evidence of autocorrelation, the overall residual diagnostics are competitive, especially given the improved randomness indicated by the Runs test.  \n",
    "\n",
    "- ARIMA(1,0,0) appears to be the **BEST** choice.\n"
   ]
  },
  {
   "cell_type": "markdown",
   "metadata": {},
   "source": [
    "### Additional Validation with auto.arima()\n",
    "\n",
    "To further validate our candidate models, we also used the `auto.arima()` function. This function automatically selects an optimal ARIMA model based on criteria such as AIC, AICc, and BIC. Its recommendation provides additional confidence in our choice by cross-checking the manual selection process.\n"
   ]
  },
  {
   "cell_type": "code",
   "execution_count": 149,
   "metadata": {
    "vscode": {
     "languageId": "r"
    }
   },
   "outputs": [
    {
     "data": {
      "text/plain": [
       "Series: train$pm25_boxcox \n",
       "ARIMA(1,0,0) with non-zero mean \n",
       "\n",
       "Coefficients:\n",
       "         ar1    mean\n",
       "      0.6254  8.4561\n",
       "s.e.  0.0455  0.1074\n",
       "\n",
       "sigma^2 = 0.481:  log likelihood = -306.73\n",
       "AIC=619.45   AICc=619.54   BIC=630.48\n",
       "\n",
       "Training set error measures:\n",
       "                       ME      RMSE       MAE        MPE     MAPE      MASE\n",
       "Training set -0.002346906 0.6911791 0.5157875 -0.7694885 6.376266 0.9486987\n",
       "                    ACF1\n",
       "Training set -0.01442029"
      ]
     },
     "metadata": {},
     "output_type": "display_data"
    }
   ],
   "source": [
    "auto_model = auto.arima(train$pm25_boxcox)\n",
    "summary(auto_model)"
   ]
  },
  {
   "cell_type": "markdown",
   "metadata": {},
   "source": [
    "## Forecasting \n",
    "\n",
    "Based on our analysis, ARIMA(1,0,0) is the strongest candidate. It was further validated by auto.arima() and shows the best residual behavior.\n"
   ]
  },
  {
   "cell_type": "markdown",
   "metadata": {},
   "source": [
    "### **Forecasting ARIMA(1,0,0):** "
   ]
  },
  {
   "cell_type": "code",
   "execution_count": null,
   "metadata": {
    "vscode": {
     "languageId": "r"
    }
   },
   "outputs": [
    {
     "data": {
      "text/plain": [
       "\n",
       "Forecast method: ARIMA(1,0,0) with non-zero mean\n",
       "\n",
       "Model Information:\n",
       "Series: train$pm25_boxcox \n",
       "ARIMA(1,0,0) with non-zero mean \n",
       "\n",
       "Coefficients:\n",
       "         ar1    mean\n",
       "      0.6254  8.4561\n",
       "s.e.  0.0455  0.1074\n",
       "\n",
       "sigma^2 = 0.481:  log likelihood = -306.73\n",
       "AIC=619.45   AICc=619.54   BIC=630.48\n",
       "\n",
       "Error measures:\n",
       "                       ME      RMSE       MAE        MPE     MAPE      MASE\n",
       "Training set -0.002346906 0.6911791 0.5157875 -0.7694885 6.376266 0.9486987\n",
       "                    ACF1\n",
       "Training set -0.01442029\n",
       "\n",
       "Forecasts:\n",
       "    Point Forecast    Lo 80    Hi 80    Lo 95     Hi 95\n",
       "293       8.604973 7.716142 9.493804 7.245624  9.964323\n",
       "294       8.549194 7.500860 9.597528 6.945905 10.152483\n",
       "295       8.514311 7.409842 9.618779 6.825171 10.203450\n",
       "296       8.492495 7.366833 9.618157 6.770943 10.214047\n",
       "297       8.478852 7.345008 9.612695 6.744788 10.212916\n",
       "298       8.470319 7.333292 9.607346 6.731386 10.209252\n",
       "299       8.464983 7.326713 9.603253 6.724149 10.205817\n",
       "300       8.461646 7.322890 9.600402 6.720070 10.203223\n",
       "301       8.459559 7.320614 9.598505 6.717692 10.201426\n",
       "302       8.458254 7.319234 9.597274 6.716273 10.200235\n",
       "303       8.457438 7.318389 9.596487 6.715413 10.199463\n",
       "304       8.456927 7.317867 9.595988 6.714885 10.198970\n",
       "305       8.456608 7.317543 9.595673 6.714559 10.198657\n",
       "306       8.456408 7.317342 9.595475 6.714357 10.198460\n",
       "307       8.456284 7.317216 9.595351 6.714231 10.198336\n",
       "308       8.456205 7.317138 9.595273 6.714152 10.198259\n",
       "309       8.456157 7.317089 9.595224 6.714103 10.198210\n",
       "310       8.456126 7.317059 9.595194 6.714073 10.198180\n",
       "311       8.456107 7.317039 9.595175 6.714053 10.198160\n",
       "312       8.456095 7.317027 9.595163 6.714042 10.198149\n",
       "313       8.456088 7.317020 9.595155 6.714034 10.198141\n",
       "314       8.456083 7.317015 9.595150 6.714029 10.198136\n",
       "315       8.456080 7.317012 9.595148 6.714026 10.198133\n",
       "316       8.456078 7.317011 9.595146 6.714025 10.198132\n",
       "317       8.456077 7.317009 9.595145 6.714024 10.198131\n",
       "318       8.456076 7.317009 9.595144 6.714023 10.198130\n",
       "319       8.456076 7.317008 9.595143 6.714022 10.198129\n",
       "320       8.456076 7.317008 9.595143 6.714022 10.198129\n",
       "321       8.456075 7.317008 9.595143 6.714022 10.198129\n",
       "322       8.456075 7.317008 9.595143 6.714022 10.198129\n",
       "323       8.456075 7.317008 9.595143 6.714022 10.198129\n",
       "324       8.456075 7.317008 9.595143 6.714022 10.198129\n",
       "325       8.456075 7.317008 9.595143 6.714022 10.198129\n",
       "326       8.456075 7.317008 9.595143 6.714022 10.198129\n",
       "327       8.456075 7.317008 9.595143 6.714022 10.198129\n",
       "328       8.456075 7.317008 9.595143 6.714022 10.198129\n",
       "329       8.456075 7.317008 9.595143 6.714022 10.198129\n",
       "330       8.456075 7.317008 9.595143 6.714022 10.198129\n",
       "331       8.456075 7.317008 9.595143 6.714022 10.198129\n",
       "332       8.456075 7.317008 9.595143 6.714022 10.198129\n",
       "333       8.456075 7.317008 9.595143 6.714022 10.198129\n",
       "334       8.456075 7.317008 9.595143 6.714022 10.198129\n",
       "335       8.456075 7.317008 9.595143 6.714022 10.198129\n",
       "336       8.456075 7.317008 9.595143 6.714022 10.198129\n",
       "337       8.456075 7.317008 9.595143 6.714022 10.198129\n",
       "338       8.456075 7.317008 9.595143 6.714022 10.198129\n",
       "339       8.456075 7.317008 9.595143 6.714022 10.198129\n",
       "340       8.456075 7.317008 9.595143 6.714022 10.198129\n",
       "341       8.456075 7.317008 9.595143 6.714022 10.198129\n",
       "342       8.456075 7.317008 9.595143 6.714022 10.198129\n",
       "343       8.456075 7.317008 9.595143 6.714022 10.198129\n",
       "344       8.456075 7.317008 9.595143 6.714022 10.198129\n",
       "345       8.456075 7.317008 9.595143 6.714022 10.198129\n",
       "346       8.456075 7.317008 9.595143 6.714022 10.198129\n",
       "347       8.456075 7.317008 9.595143 6.714022 10.198129\n",
       "348       8.456075 7.317008 9.595143 6.714022 10.198129\n",
       "349       8.456075 7.317008 9.595143 6.714022 10.198129\n",
       "350       8.456075 7.317008 9.595143 6.714022 10.198129\n",
       "351       8.456075 7.317008 9.595143 6.714022 10.198129\n",
       "352       8.456075 7.317008 9.595143 6.714022 10.198129\n",
       "353       8.456075 7.317008 9.595143 6.714022 10.198129\n",
       "354       8.456075 7.317008 9.595143 6.714022 10.198129\n",
       "355       8.456075 7.317008 9.595143 6.714022 10.198129\n",
       "356       8.456075 7.317008 9.595143 6.714022 10.198129\n",
       "357       8.456075 7.317008 9.595143 6.714022 10.198129\n",
       "358       8.456075 7.317008 9.595143 6.714022 10.198129\n",
       "359       8.456075 7.317008 9.595143 6.714022 10.198129\n",
       "360       8.456075 7.317008 9.595143 6.714022 10.198129\n",
       "361       8.456075 7.317008 9.595143 6.714022 10.198129\n",
       "362       8.456075 7.317008 9.595143 6.714022 10.198129\n",
       "363       8.456075 7.317008 9.595143 6.714022 10.198129\n",
       "364       8.456075 7.317008 9.595143 6.714022 10.198129\n",
       "365       8.456075 7.317008 9.595143 6.714022 10.198129"
      ]
     },
     "metadata": {},
     "output_type": "display_data"
    },
    {
     "name": "stdout",
     "output_type": "stream",
     "text": [
      "    Point Forecast    Lo 80    Hi 80    Lo 95     Hi 95\n",
      "293       8.604973 7.716142 9.493804 7.245624  9.964323\n",
      "294       8.549194 7.500860 9.597528 6.945905 10.152483\n",
      "295       8.514311 7.409842 9.618779 6.825171 10.203450\n",
      "296       8.492495 7.366833 9.618157 6.770943 10.214047\n",
      "297       8.478852 7.345008 9.612695 6.744788 10.212916\n",
      "298       8.470319 7.333292 9.607346 6.731386 10.209252\n",
      "299       8.464983 7.326713 9.603253 6.724149 10.205817\n",
      "300       8.461646 7.322890 9.600402 6.720070 10.203223\n",
      "301       8.459559 7.320614 9.598505 6.717692 10.201426\n",
      "302       8.458254 7.319234 9.597274 6.716273 10.200235\n",
      "303       8.457438 7.318389 9.596487 6.715413 10.199463\n",
      "304       8.456927 7.317867 9.595988 6.714885 10.198970\n",
      "305       8.456608 7.317543 9.595673 6.714559 10.198657\n",
      "306       8.456408 7.317342 9.595475 6.714357 10.198460\n",
      "307       8.456284 7.317216 9.595351 6.714231 10.198336\n",
      "308       8.456205 7.317138 9.595273 6.714152 10.198259\n",
      "309       8.456157 7.317089 9.595224 6.714103 10.198210\n",
      "310       8.456126 7.317059 9.595194 6.714073 10.198180\n",
      "311       8.456107 7.317039 9.595175 6.714053 10.198160\n",
      "312       8.456095 7.317027 9.595163 6.714042 10.198149\n",
      "313       8.456088 7.317020 9.595155 6.714034 10.198141\n",
      "314       8.456083 7.317015 9.595150 6.714029 10.198136\n",
      "315       8.456080 7.317012 9.595148 6.714026 10.198133\n",
      "316       8.456078 7.317011 9.595146 6.714025 10.198132\n",
      "317       8.456077 7.317009 9.595145 6.714024 10.198131\n",
      "318       8.456076 7.317009 9.595144 6.714023 10.198130\n",
      "319       8.456076 7.317008 9.595143 6.714022 10.198129\n",
      "320       8.456076 7.317008 9.595143 6.714022 10.198129\n",
      "321       8.456075 7.317008 9.595143 6.714022 10.198129\n",
      "322       8.456075 7.317008 9.595143 6.714022 10.198129\n",
      "323       8.456075 7.317008 9.595143 6.714022 10.198129\n",
      "324       8.456075 7.317008 9.595143 6.714022 10.198129\n",
      "325       8.456075 7.317008 9.595143 6.714022 10.198129\n",
      "326       8.456075 7.317008 9.595143 6.714022 10.198129\n",
      "327       8.456075 7.317008 9.595143 6.714022 10.198129\n",
      "328       8.456075 7.317008 9.595143 6.714022 10.198129\n",
      "329       8.456075 7.317008 9.595143 6.714022 10.198129\n",
      "330       8.456075 7.317008 9.595143 6.714022 10.198129\n",
      "331       8.456075 7.317008 9.595143 6.714022 10.198129\n",
      "332       8.456075 7.317008 9.595143 6.714022 10.198129\n",
      "333       8.456075 7.317008 9.595143 6.714022 10.198129\n",
      "334       8.456075 7.317008 9.595143 6.714022 10.198129\n",
      "335       8.456075 7.317008 9.595143 6.714022 10.198129\n",
      "336       8.456075 7.317008 9.595143 6.714022 10.198129\n",
      "337       8.456075 7.317008 9.595143 6.714022 10.198129\n",
      "338       8.456075 7.317008 9.595143 6.714022 10.198129\n",
      "339       8.456075 7.317008 9.595143 6.714022 10.198129\n",
      "340       8.456075 7.317008 9.595143 6.714022 10.198129\n",
      "341       8.456075 7.317008 9.595143 6.714022 10.198129\n",
      "342       8.456075 7.317008 9.595143 6.714022 10.198129\n",
      "343       8.456075 7.317008 9.595143 6.714022 10.198129\n",
      "344       8.456075 7.317008 9.595143 6.714022 10.198129\n",
      "345       8.456075 7.317008 9.595143 6.714022 10.198129\n",
      "346       8.456075 7.317008 9.595143 6.714022 10.198129\n",
      "347       8.456075 7.317008 9.595143 6.714022 10.198129\n",
      "348       8.456075 7.317008 9.595143 6.714022 10.198129\n",
      "349       8.456075 7.317008 9.595143 6.714022 10.198129\n",
      "350       8.456075 7.317008 9.595143 6.714022 10.198129\n",
      "351       8.456075 7.317008 9.595143 6.714022 10.198129\n",
      "352       8.456075 7.317008 9.595143 6.714022 10.198129\n",
      "353       8.456075 7.317008 9.595143 6.714022 10.198129\n",
      "354       8.456075 7.317008 9.595143 6.714022 10.198129\n",
      "355       8.456075 7.317008 9.595143 6.714022 10.198129\n",
      "356       8.456075 7.317008 9.595143 6.714022 10.198129\n",
      "357       8.456075 7.317008 9.595143 6.714022 10.198129\n",
      "358       8.456075 7.317008 9.595143 6.714022 10.198129\n",
      "359       8.456075 7.317008 9.595143 6.714022 10.198129\n",
      "360       8.456075 7.317008 9.595143 6.714022 10.198129\n",
      "361       8.456075 7.317008 9.595143 6.714022 10.198129\n",
      "362       8.456075 7.317008 9.595143 6.714022 10.198129\n",
      "363       8.456075 7.317008 9.595143 6.714022 10.198129\n",
      "364       8.456075 7.317008 9.595143 6.714022 10.198129\n",
      "365       8.456075 7.317008 9.595143 6.714022 10.198129\n",
      "Time Series:\n",
      "Start = 293 \n",
      "End = 365 \n",
      "Frequency = 1 \n",
      " [1] 52.81837 52.08800 51.63459 51.35234 51.17634 51.06646 50.99783 50.95494\n",
      " [9] 50.92812 50.91136 50.90088 50.89432 50.89022 50.88766 50.88606 50.88506\n",
      "[17] 50.88443 50.88404 50.88379 50.88364 50.88354 50.88348 50.88344 50.88342\n",
      "[25] 50.88341 50.88340 50.88339 50.88339 50.88339 50.88338 50.88338 50.88338\n",
      "[33] 50.88338 50.88338 50.88338 50.88338 50.88338 50.88338 50.88338 50.88338\n",
      "[41] 50.88338 50.88338 50.88338 50.88338 50.88338 50.88338 50.88338 50.88338\n",
      "[49] 50.88338 50.88338 50.88338 50.88338 50.88338 50.88338 50.88338 50.88338\n",
      "[57] 50.88338 50.88338 50.88338 50.88338 50.88338 50.88338 50.88338 50.88338\n",
      "[65] 50.88338 50.88338 50.88338 50.88338 50.88338 50.88338 50.88338 50.88338\n",
      "[73] 50.88338\n"
     ]
    },
    {
     "data": {
      "image/png": "[encoded data removed]",
      "text/plain": [
       "Plot with title \"Original PM2.5 Data (Test Set)\""
      ]
     },
     "metadata": {
      "image/png": {
       "height": 360,
       "width": 720
      }
     },
     "output_type": "display_data"
    }
   ],
   "source": [
    "# Set forecast horizon equal to test set length\n",
    "forecast_horizon <- length(test$pm25)  \n",
    "\n",
    "par(bg = \"white\", mfrow = c(2, 1))\n",
    "\n",
    "# Generate forecasts on the Box-Cox transformed scale using ARIMA(1,0,0)\n",
    "forecasts_100_test <- forecast(arima_model_100, h = forecast_horizon)\n",
    "summary(forecasts_100_test)\n",
    "print(forecasts_100_test)\n",
    "\n",
    "# Invert the Box-Cox transformation for the forecasts\n",
    "inverted_forecasts_100_test <- InvBoxCox(forecasts_100_test$mean, lambda_clean)\n",
    "print(inverted_forecasts_100_test)\n",
    "\n",
    "# Combine only the relevant forecasted part with the test data.\n",
    "combined_data_test_100 <- c(test$pm25, inverted_forecasts_100_test)\n",
    "combined_data_test_100 <- combined_data_test_100[1:length(test$pm25)]  # Trim extra forecasted days\n",
    "\n",
    "# Create a Date index for the test set\n",
    "start_date_test <- as.Date(\"2023-10-19\")  #  match  test set start date\n",
    "date_index_test <- seq.Date(from = start_date_test, by = \"day\", length.out = length(test$pm25))\n",
    "\n",
    "# Plot the forecast (matching x-axis range with test set)\n",
    "plot(date_index_test, combined_data_test_100, type = \"l\", xaxt = \"n\",\n",
    "     main = \"Forecast using ARIMA(1,0,0) (Inverted Box-Cox) - Test Set\",\n",
    "     ylab = \"PM2.5\", xlab = \"Time\", col = \"blue\", xlim = range(date_index_test))\n",
    "\n",
    "# Create monthly tick marks\n",
    "month_ticks_test <- seq.Date(from = as.Date(format(min(date_index_test), \"%Y-%m-01\")),\n",
    "                             to   = as.Date(format(max(date_index_test), \"%Y-%m-01\")),\n",
    "                             by   = \"month\")\n",
    "axis.Date(side = 1, at = month_ticks_test, format = \"%b %Y\", las = 2)\n",
    "\n",
    "# Plot the original test dataset with the same x-axis range\n",
    "plot(date_index_test, test$pm25, type = \"l\", xaxt = \"n\",\n",
    "     main = \"Original PM2.5 Data (Test Set)\", ylab = \"PM2.5\", xlab = \"Time\", xlim = range(date_index_test))\n",
    "axis.Date(side = 1, at = month_ticks_test, format = \"%b %Y\", las = 2)\n",
    "\n",
    "# Reset plotting layout to default\n",
    "par(mfrow = c(1, 1))\n"
   ]
  },
  {
   "cell_type": "code",
   "execution_count": 151,
   "metadata": {
    "vscode": {
     "languageId": "r"
    }
   },
   "outputs": [
    {
     "name": "stdout",
     "output_type": "stream",
     "text": [
      "               ME     RMSE      MAE       MPE     MAPE\n",
      "Test set 7.484546 28.51427 19.20222 -3.249954 30.89974\n"
     ]
    }
   ],
   "source": [
    "accuracy_metrics <- accuracy(inverted_forecasts_100_test, test$pm25)\n",
    "print(accuracy_metrics)"
   ]
  },
  {
   "cell_type": "markdown",
   "metadata": {},
   "source": [
    "### **Forecast Evaluation**: ARIMA(1,0,0) with Non-Zero Mean\n",
    "\n",
    "**1. Coefficients:**  \n",
    "\n",
    "- The AR1 coefficient (0.6254) indicates moderate persistence, while the constant mean (8.4561) shows the long-term level the model reverts to. These remain unchanged and provide the backbone for the model's forecasts.\n",
    "\n",
    "**2. Error Measures:**  \n",
    "\n",
    "- **Training Set:**  \n",
    "\n",
    "  - The in-sample performance was excellent with very low errors (RMSE ≈ 0.6912, MAPE ≈ 6.38%), suggesting that the model closely fits the training data.  \n",
    "\n",
    "- **Test Set:**  \n",
    "\n",
    "  - Out-of-sample, the errors increase significantly (RMSE ≈ 28.51427, MAPE ≈ 30.89974, and a bias/ME of ~7.48).\n",
    "\n",
    "  - In the context of air quality forecasting, a MAPE around 30% falls within the typical range (20%–40%).\n",
    "\n",
    "  - The positive bias (ME ≈ 7.48) indicates that, on average, forecasts are slightly overestimating PM2.5 levels by about 7.5 units, which in this context this bias is acceptable.\n",
    "\n",
    "**3. Forecasting Accuracy & Decision on Model Acceptance:**  \n",
    "\n",
    "- **Performance Context:**  \n",
    "\n",
    "  - Although the training performance is stellar, the test set performance shows moderate forecasting accuracy.  \n",
    "\n",
    "  - Given that typical air quality forecasts see MAPE values between 20% and 40%, a 30.9% MAPE is acceptable in many cases.\n",
    "\n",
    "  - The RMSE should be considered relative to the average PM2.5 levels; if the average is around 50–60, an RMSE of 28.5 represents a moderate error that might be tolerable in volatile conditions but could be problematic for high-stakes decisions.  \n",
    "   \n"
   ]
  },
  {
   "cell_type": "markdown",
   "metadata": {},
   "source": [
    "## **Discussion**\n",
    "\n",
    "### Summary  \n",
    "\n",
    "We developed an ARIMA(1,0,0) model with a non-zero mean to forecast daily PM2.5 levels using Box–Cox transformed training data. While the model fit the training data extremely well, test set errors (MAPE ~30.9%, RMSE ~28.5, ME ~7.48) indicate moderate performance.\n",
    "\n",
    "### Main Points  \n",
    "\n",
    "- **Model Performance:**  \n",
    "\n",
    "  - The model captures short-term dynamics effectively but converges to a constant mean over time, showing that its simple AR(1) structure may not fully capture complex behaviors.\n",
    "\n",
    "  - Despite the excellent in-sample fit, the higher test set errors suggest the model doesn't generalize perfectly, possibly due to its inability to incorporate factors like weather or event-driven effects.\n",
    "\n",
    "- **Data Limitations and Model Challenges:**  \n",
    "\n",
    "  - The dataset was limited to only two features, which likely oversimplifies the true dynamics of PM2.5 influenced by external factors (e.g., weather, events), leaving no clear seasonal pattern to model.\n",
    "\n",
    "  - Even after regression, the data does not fit a linear deterministic model well, necessitating the use of an ARIMA approach.\n",
    "\n",
    "  - The Box–Cox transformation helped reduce in-sample error but may not have been sufficient to eliminate bias when forecasts are inverted.\n",
    "\n",
    "  - Although the residual plots (QQ plot and histogram) looked fairly normal, the model strongly failed the Shapiro-Wilk test—this discrepancy was unexpected.\n",
    "\n",
    "\n",
    "- **Decision Implications:**  \n",
    "\n",
    "  - A ~30% error is acceptable for applications like public health advisories or policy formulation, ARIMA(1,0,0) stands as the best ARIMA candidate given the data constraints.\n",
    "\n"
   ]
  },
  {
   "cell_type": "markdown",
   "metadata": {},
   "source": [
    "# **Conclusion**\n",
    "\n",
    "In conclusion, ARIMA(1,0,0) demonstrates reasonable performance within the typical error ranges for air quality forecasts and offers a robust and simple approach for forecasting AQI data, delivering acceptable performance within the typical error ranges for air quality predictions.\n"
   ]
  }
 ],
 "metadata": {
  "kernelspec": {
   "display_name": "R",
   "language": "R",
   "name": "ir"
  },
  "language_info": {
   "codemirror_mode": "r",
   "file_extension": ".r",
   "mimetype": "text/x-r-source",
   "name": "R",
   "pygments_lexer": "r",
   "version": "4.4.2"
  }
 },
 "nbformat": 4,
 "nbformat_minor": 2
}
